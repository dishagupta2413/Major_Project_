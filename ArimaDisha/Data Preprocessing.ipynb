{
 "cells": [
  {
   "cell_type": "code",
   "execution_count": 1,
   "id": "76887f63",
   "metadata": {},
   "outputs": [],
   "source": [
    "import pandas as pd\n",
    "import numpy as np\n",
    "import os\n",
    "import matplotlib.pyplot as plt\n",
    "import time"
   ]
  },
  {
   "cell_type": "code",
   "execution_count": 139,
   "id": "7e316b4f",
   "metadata": {},
   "outputs": [],
   "source": [
    "df = pd.read_csv(\"D:\\\\MajorProject\\\\Datasets_1\\\\ZFinal_dataset.csv\")\n",
    "dfHCL = pd.read_csv(\"D:\\\\MajorProject\\\\Datasets_1\\\\HCL Technologies Ltd.csv\")"
   ]
  },
  {
   "cell_type": "code",
   "execution_count": 85,
   "id": "6e180a1c",
   "metadata": {},
   "outputs": [
    {
     "data": {
      "text/html": [
       "<div>\n",
       "<style scoped>\n",
       "    .dataframe tbody tr th:only-of-type {\n",
       "        vertical-align: middle;\n",
       "    }\n",
       "\n",
       "    .dataframe tbody tr th {\n",
       "        vertical-align: top;\n",
       "    }\n",
       "\n",
       "    .dataframe thead th {\n",
       "        text-align: right;\n",
       "    }\n",
       "</style>\n",
       "<table border=\"1\" class=\"dataframe\">\n",
       "  <thead>\n",
       "    <tr style=\"text-align: right;\">\n",
       "      <th></th>\n",
       "      <th>Date</th>\n",
       "      <th>Open</th>\n",
       "      <th>High</th>\n",
       "      <th>Low</th>\n",
       "      <th>Close</th>\n",
       "      <th>Adj Close</th>\n",
       "      <th>Volume</th>\n",
       "      <th>Company</th>\n",
       "    </tr>\n",
       "  </thead>\n",
       "  <tbody>\n",
       "    <tr>\n",
       "      <th>65049</th>\n",
       "      <td>2019-12-23</td>\n",
       "      <td>529.950012</td>\n",
       "      <td>535.900024</td>\n",
       "      <td>524.700012</td>\n",
       "      <td>525.900024</td>\n",
       "      <td>502.017120</td>\n",
       "      <td>2963573.0</td>\n",
       "      <td>Mahindra&amp;Mahindra</td>\n",
       "    </tr>\n",
       "    <tr>\n",
       "      <th>65050</th>\n",
       "      <td>2019-12-24</td>\n",
       "      <td>529.000000</td>\n",
       "      <td>532.650024</td>\n",
       "      <td>526.200012</td>\n",
       "      <td>527.500000</td>\n",
       "      <td>503.544373</td>\n",
       "      <td>2372038.0</td>\n",
       "      <td>Mahindra&amp;Mahindra</td>\n",
       "    </tr>\n",
       "    <tr>\n",
       "      <th>65051</th>\n",
       "      <td>2019-12-26</td>\n",
       "      <td>530.000000</td>\n",
       "      <td>536.200012</td>\n",
       "      <td>527.049988</td>\n",
       "      <td>528.349976</td>\n",
       "      <td>504.355682</td>\n",
       "      <td>4623580.0</td>\n",
       "      <td>Mahindra&amp;Mahindra</td>\n",
       "    </tr>\n",
       "    <tr>\n",
       "      <th>65052</th>\n",
       "      <td>2019-12-27</td>\n",
       "      <td>529.900024</td>\n",
       "      <td>532.750000</td>\n",
       "      <td>525.049988</td>\n",
       "      <td>530.150024</td>\n",
       "      <td>506.074066</td>\n",
       "      <td>3017840.0</td>\n",
       "      <td>Mahindra&amp;Mahindra</td>\n",
       "    </tr>\n",
       "    <tr>\n",
       "      <th>65053</th>\n",
       "      <td>2019-12-30</td>\n",
       "      <td>531.349976</td>\n",
       "      <td>539.849976</td>\n",
       "      <td>531.349976</td>\n",
       "      <td>536.900024</td>\n",
       "      <td>512.517456</td>\n",
       "      <td>4697710.0</td>\n",
       "      <td>Mahindra&amp;Mahindra</td>\n",
       "    </tr>\n",
       "  </tbody>\n",
       "</table>\n",
       "</div>"
      ],
      "text/plain": [
       "             Date        Open        High         Low       Close   Adj Close  \\\n",
       "65049  2019-12-23  529.950012  535.900024  524.700012  525.900024  502.017120   \n",
       "65050  2019-12-24  529.000000  532.650024  526.200012  527.500000  503.544373   \n",
       "65051  2019-12-26  530.000000  536.200012  527.049988  528.349976  504.355682   \n",
       "65052  2019-12-27  529.900024  532.750000  525.049988  530.150024  506.074066   \n",
       "65053  2019-12-30  531.349976  539.849976  531.349976  536.900024  512.517456   \n",
       "\n",
       "          Volume            Company  \n",
       "65049  2963573.0  Mahindra&Mahindra  \n",
       "65050  2372038.0  Mahindra&Mahindra  \n",
       "65051  4623580.0  Mahindra&Mahindra  \n",
       "65052  3017840.0  Mahindra&Mahindra  \n",
       "65053  4697710.0  Mahindra&Mahindra  "
      ]
     },
     "execution_count": 85,
     "metadata": {},
     "output_type": "execute_result"
    }
   ],
   "source": [
    "df.tail()"
   ]
  },
  {
   "cell_type": "code",
   "execution_count": 86,
   "id": "6a12ecba",
   "metadata": {},
   "outputs": [
    {
     "data": {
      "text/plain": [
       "2957"
      ]
     },
     "execution_count": 86,
     "metadata": {},
     "output_type": "execute_result"
    }
   ],
   "source": [
    "df[\"Date\"].nunique()"
   ]
  },
  {
   "cell_type": "code",
   "execution_count": 87,
   "id": "08b8ff32",
   "metadata": {},
   "outputs": [
    {
     "data": {
      "text/plain": [
       "34487"
      ]
     },
     "execution_count": 87,
     "metadata": {},
     "output_type": "execute_result"
    }
   ],
   "source": [
    "df[\"Open\"].nunique()"
   ]
  },
  {
   "cell_type": "code",
   "execution_count": 88,
   "id": "2fb9b9ce",
   "metadata": {},
   "outputs": [
    {
     "data": {
      "text/plain": [
       "39243"
      ]
     },
     "execution_count": 88,
     "metadata": {},
     "output_type": "execute_result"
    }
   ],
   "source": [
    "df[\"High\"].nunique()"
   ]
  },
  {
   "cell_type": "code",
   "execution_count": 89,
   "id": "d2d05e1b",
   "metadata": {},
   "outputs": [
    {
     "data": {
      "text/plain": [
       "41189"
      ]
     },
     "execution_count": 89,
     "metadata": {},
     "output_type": "execute_result"
    }
   ],
   "source": [
    "df[\"Low\"].nunique()"
   ]
  },
  {
   "cell_type": "code",
   "execution_count": 90,
   "id": "afbcb401",
   "metadata": {},
   "outputs": [
    {
     "data": {
      "text/plain": [
       "50326"
      ]
     },
     "execution_count": 90,
     "metadata": {},
     "output_type": "execute_result"
    }
   ],
   "source": [
    "df[\"Close\"].nunique()"
   ]
  },
  {
   "cell_type": "code",
   "execution_count": 91,
   "id": "25b0451d",
   "metadata": {},
   "outputs": [
    {
     "data": {
      "text/plain": [
       "62263"
      ]
     },
     "execution_count": 91,
     "metadata": {},
     "output_type": "execute_result"
    }
   ],
   "source": [
    "df[\"Adj Close\"].nunique()"
   ]
  },
  {
   "cell_type": "code",
   "execution_count": 92,
   "id": "49c7338c",
   "metadata": {},
   "outputs": [
    {
     "data": {
      "text/plain": [
       "63695"
      ]
     },
     "execution_count": 92,
     "metadata": {},
     "output_type": "execute_result"
    }
   ],
   "source": [
    "df[\"Volume\"].nunique()"
   ]
  },
  {
   "cell_type": "code",
   "execution_count": 103,
   "id": "e0bf3f41",
   "metadata": {},
   "outputs": [
    {
     "data": {
      "text/plain": [
       "153"
      ]
     },
     "execution_count": 103,
     "metadata": {},
     "output_type": "execute_result"
    }
   ],
   "source": [
    "# df[\"Adj Close\"].isnull().values.any()\n",
    "df[\"Adj Close\"].isnull().sum()"
   ]
  },
  {
   "cell_type": "code",
   "execution_count": 102,
   "id": "0e797adc",
   "metadata": {},
   "outputs": [
    {
     "data": {
      "text/plain": [
       "153"
      ]
     },
     "execution_count": 102,
     "metadata": {},
     "output_type": "execute_result"
    }
   ],
   "source": [
    "# df[\"Close\"].isnull().values.any()\n",
    "df[\"Close\"].isnull().sum()"
   ]
  },
  {
   "cell_type": "code",
   "execution_count": 101,
   "id": "71c6b19e",
   "metadata": {},
   "outputs": [
    {
     "data": {
      "text/plain": [
       "153"
      ]
     },
     "execution_count": 101,
     "metadata": {},
     "output_type": "execute_result"
    }
   ],
   "source": [
    "# df[\"Date\"].isnull().sum()\n",
    "# df[\"Open\"].isnull().sum()\n",
    "# df[\"High\"].isnull().sum()\n",
    "# df[\"Low\"].isnull().sum()\n",
    "# df[\"Volume\"].isnull().sum()"
   ]
  },
  {
   "cell_type": "code",
   "execution_count": 112,
   "id": "fa99cfcc",
   "metadata": {},
   "outputs": [],
   "source": [
    "# for i in df:\n",
    "#     if i[i[\"Company\"]]==\"Reliance Industries Ltd\"\n",
    "dfna=df[df[\"Close\"].isna()]"
   ]
  },
  {
   "cell_type": "code",
   "execution_count": 138,
   "id": "80325148",
   "metadata": {},
   "outputs": [
    {
     "data": {
      "text/html": [
       "<div>\n",
       "<style scoped>\n",
       "    .dataframe tbody tr th:only-of-type {\n",
       "        vertical-align: middle;\n",
       "    }\n",
       "\n",
       "    .dataframe tbody tr th {\n",
       "        vertical-align: top;\n",
       "    }\n",
       "\n",
       "    .dataframe thead th {\n",
       "        text-align: right;\n",
       "    }\n",
       "</style>\n",
       "<table border=\"1\" class=\"dataframe\">\n",
       "  <thead>\n",
       "    <tr style=\"text-align: right;\">\n",
       "      <th></th>\n",
       "      <th>Date</th>\n",
       "      <th>Open</th>\n",
       "      <th>High</th>\n",
       "      <th>Low</th>\n",
       "      <th>Close</th>\n",
       "      <th>Adj Close</th>\n",
       "      <th>Volume</th>\n",
       "      <th>Company</th>\n",
       "    </tr>\n",
       "  </thead>\n",
       "  <tbody>\n",
       "    <tr>\n",
       "      <th>513</th>\n",
       "      <td>2010-02-06</td>\n",
       "      <td>NaN</td>\n",
       "      <td>NaN</td>\n",
       "      <td>NaN</td>\n",
       "      <td>NaN</td>\n",
       "      <td>NaN</td>\n",
       "      <td>NaN</td>\n",
       "      <td>Reliance Industries Ltd</td>\n",
       "    </tr>\n",
       "    <tr>\n",
       "      <th>991</th>\n",
       "      <td>2012-01-07</td>\n",
       "      <td>NaN</td>\n",
       "      <td>NaN</td>\n",
       "      <td>NaN</td>\n",
       "      <td>NaN</td>\n",
       "      <td>NaN</td>\n",
       "      <td>NaN</td>\n",
       "      <td>Reliance Industries Ltd</td>\n",
       "    </tr>\n",
       "    <tr>\n",
       "      <th>1030</th>\n",
       "      <td>2012-03-03</td>\n",
       "      <td>NaN</td>\n",
       "      <td>NaN</td>\n",
       "      <td>NaN</td>\n",
       "      <td>NaN</td>\n",
       "      <td>NaN</td>\n",
       "      <td>NaN</td>\n",
       "      <td>Reliance Industries Ltd</td>\n",
       "    </tr>\n",
       "    <tr>\n",
       "      <th>1160</th>\n",
       "      <td>2012-09-08</td>\n",
       "      <td>NaN</td>\n",
       "      <td>NaN</td>\n",
       "      <td>NaN</td>\n",
       "      <td>NaN</td>\n",
       "      <td>NaN</td>\n",
       "      <td>NaN</td>\n",
       "      <td>Reliance Industries Ltd</td>\n",
       "    </tr>\n",
       "    <tr>\n",
       "      <th>1202</th>\n",
       "      <td>2012-11-11</td>\n",
       "      <td>NaN</td>\n",
       "      <td>NaN</td>\n",
       "      <td>NaN</td>\n",
       "      <td>NaN</td>\n",
       "      <td>NaN</td>\n",
       "      <td>NaN</td>\n",
       "      <td>Reliance Industries Ltd</td>\n",
       "    </tr>\n",
       "    <tr>\n",
       "      <th>1539</th>\n",
       "      <td>2014-03-22</td>\n",
       "      <td>NaN</td>\n",
       "      <td>NaN</td>\n",
       "      <td>NaN</td>\n",
       "      <td>NaN</td>\n",
       "      <td>NaN</td>\n",
       "      <td>NaN</td>\n",
       "      <td>Reliance Industries Ltd</td>\n",
       "    </tr>\n",
       "    <tr>\n",
       "      <th>1768</th>\n",
       "      <td>2015-02-28</td>\n",
       "      <td>NaN</td>\n",
       "      <td>NaN</td>\n",
       "      <td>NaN</td>\n",
       "      <td>NaN</td>\n",
       "      <td>NaN</td>\n",
       "      <td>NaN</td>\n",
       "      <td>Reliance Industries Ltd</td>\n",
       "    </tr>\n",
       "    <tr>\n",
       "      <th>3470</th>\n",
       "      <td>2010-02-06</td>\n",
       "      <td>NaN</td>\n",
       "      <td>NaN</td>\n",
       "      <td>NaN</td>\n",
       "      <td>NaN</td>\n",
       "      <td>NaN</td>\n",
       "      <td>NaN</td>\n",
       "      <td>HDFC Bank Ltd</td>\n",
       "    </tr>\n",
       "  </tbody>\n",
       "</table>\n",
       "</div>"
      ],
      "text/plain": [
       "            Date  Open  High  Low  Close  Adj Close  Volume  \\\n",
       "513   2010-02-06   NaN   NaN  NaN    NaN        NaN     NaN   \n",
       "991   2012-01-07   NaN   NaN  NaN    NaN        NaN     NaN   \n",
       "1030  2012-03-03   NaN   NaN  NaN    NaN        NaN     NaN   \n",
       "1160  2012-09-08   NaN   NaN  NaN    NaN        NaN     NaN   \n",
       "1202  2012-11-11   NaN   NaN  NaN    NaN        NaN     NaN   \n",
       "1539  2014-03-22   NaN   NaN  NaN    NaN        NaN     NaN   \n",
       "1768  2015-02-28   NaN   NaN  NaN    NaN        NaN     NaN   \n",
       "3470  2010-02-06   NaN   NaN  NaN    NaN        NaN     NaN   \n",
       "\n",
       "                      Company  \n",
       "513   Reliance Industries Ltd  \n",
       "991   Reliance Industries Ltd  \n",
       "1030  Reliance Industries Ltd  \n",
       "1160  Reliance Industries Ltd  \n",
       "1202  Reliance Industries Ltd  \n",
       "1539  Reliance Industries Ltd  \n",
       "1768  Reliance Industries Ltd  \n",
       "3470            HDFC Bank Ltd  "
      ]
     },
     "execution_count": 138,
     "metadata": {},
     "output_type": "execute_result"
    }
   ],
   "source": [
    "dfna.head(8)\n",
    "# 2010-02-06: 6th feb 2010 : saturday\n",
    "\n",
    "# 2012-01-07: 7th Jan 2012: saturday, \n",
    "# 2012-03-03: 3rd March 2012: saturday, \n",
    "# 2012-09-08: 8th Sep 2012: saturday, \n",
    "# 2012-11-11: 11th November 2012: sunday, \n",
    "# 2014-03-22: 22nd March 2014: saturday, \n",
    "# 2015-02-28: 28th Feb 2015: saturday;  HCL Technologies Ltd"
   ]
  },
  {
   "cell_type": "code",
   "execution_count": 115,
   "id": "1ca9d66c",
   "metadata": {},
   "outputs": [
    {
     "data": {
      "text/plain": [
       "7"
      ]
     },
     "execution_count": 115,
     "metadata": {},
     "output_type": "execute_result"
    }
   ],
   "source": [
    "dfna[\"Date\"].nunique()"
   ]
  },
  {
   "cell_type": "code",
   "execution_count": 116,
   "id": "1b5d35e6",
   "metadata": {},
   "outputs": [
    {
     "data": {
      "text/plain": [
       "22"
      ]
     },
     "execution_count": 116,
     "metadata": {},
     "output_type": "execute_result"
    }
   ],
   "source": [
    "dfna[\"Company\"].nunique()"
   ]
  },
  {
   "cell_type": "code",
   "execution_count": 140,
   "id": "2e579b17",
   "metadata": {},
   "outputs": [
    {
     "data": {
      "text/html": [
       "<div>\n",
       "<style scoped>\n",
       "    .dataframe tbody tr th:only-of-type {\n",
       "        vertical-align: middle;\n",
       "    }\n",
       "\n",
       "    .dataframe tbody tr th {\n",
       "        vertical-align: top;\n",
       "    }\n",
       "\n",
       "    .dataframe thead th {\n",
       "        text-align: right;\n",
       "    }\n",
       "</style>\n",
       "<table border=\"1\" class=\"dataframe\">\n",
       "  <thead>\n",
       "    <tr style=\"text-align: right;\">\n",
       "      <th></th>\n",
       "      <th>Date</th>\n",
       "      <th>Open</th>\n",
       "      <th>High</th>\n",
       "      <th>Low</th>\n",
       "      <th>Close</th>\n",
       "      <th>Adj Close</th>\n",
       "      <th>Volume</th>\n",
       "    </tr>\n",
       "  </thead>\n",
       "  <tbody>\n",
       "    <tr>\n",
       "      <th>0</th>\n",
       "      <td>2008-01-01</td>\n",
       "      <td>83.000000</td>\n",
       "      <td>83.612503</td>\n",
       "      <td>80.074997</td>\n",
       "      <td>80.512497</td>\n",
       "      <td>55.720848</td>\n",
       "      <td>730260.0</td>\n",
       "    </tr>\n",
       "    <tr>\n",
       "      <th>1</th>\n",
       "      <td>2008-01-02</td>\n",
       "      <td>80.487503</td>\n",
       "      <td>81.474998</td>\n",
       "      <td>78.262497</td>\n",
       "      <td>78.587502</td>\n",
       "      <td>54.388577</td>\n",
       "      <td>1896700.0</td>\n",
       "    </tr>\n",
       "    <tr>\n",
       "      <th>2</th>\n",
       "      <td>2008-01-03</td>\n",
       "      <td>79.000000</td>\n",
       "      <td>79.187500</td>\n",
       "      <td>77.012497</td>\n",
       "      <td>77.500000</td>\n",
       "      <td>53.635952</td>\n",
       "      <td>2943936.0</td>\n",
       "    </tr>\n",
       "    <tr>\n",
       "      <th>3</th>\n",
       "      <td>2008-01-04</td>\n",
       "      <td>77.750000</td>\n",
       "      <td>79.237503</td>\n",
       "      <td>77.012497</td>\n",
       "      <td>78.762497</td>\n",
       "      <td>54.509697</td>\n",
       "      <td>2431480.0</td>\n",
       "    </tr>\n",
       "    <tr>\n",
       "      <th>4</th>\n",
       "      <td>2008-01-07</td>\n",
       "      <td>79.000000</td>\n",
       "      <td>79.000000</td>\n",
       "      <td>74.400002</td>\n",
       "      <td>74.824997</td>\n",
       "      <td>51.784660</td>\n",
       "      <td>5565516.0</td>\n",
       "    </tr>\n",
       "    <tr>\n",
       "      <th>5</th>\n",
       "      <td>2008-01-08</td>\n",
       "      <td>73.812500</td>\n",
       "      <td>76.599998</td>\n",
       "      <td>73.812500</td>\n",
       "      <td>75.212502</td>\n",
       "      <td>52.052830</td>\n",
       "      <td>3877976.0</td>\n",
       "    </tr>\n",
       "    <tr>\n",
       "      <th>6</th>\n",
       "      <td>2008-01-09</td>\n",
       "      <td>77.099998</td>\n",
       "      <td>77.099998</td>\n",
       "      <td>74.750000</td>\n",
       "      <td>75.025002</td>\n",
       "      <td>51.923077</td>\n",
       "      <td>4305368.0</td>\n",
       "    </tr>\n",
       "    <tr>\n",
       "      <th>7</th>\n",
       "      <td>2008-01-10</td>\n",
       "      <td>76.250000</td>\n",
       "      <td>76.250000</td>\n",
       "      <td>73.775002</td>\n",
       "      <td>74.050003</td>\n",
       "      <td>51.248302</td>\n",
       "      <td>1519052.0</td>\n",
       "    </tr>\n",
       "    <tr>\n",
       "      <th>8</th>\n",
       "      <td>2008-01-11</td>\n",
       "      <td>74.500000</td>\n",
       "      <td>75.000000</td>\n",
       "      <td>71.150002</td>\n",
       "      <td>72.224998</td>\n",
       "      <td>49.985245</td>\n",
       "      <td>3117668.0</td>\n",
       "    </tr>\n",
       "    <tr>\n",
       "      <th>9</th>\n",
       "      <td>2008-01-14</td>\n",
       "      <td>72.512497</td>\n",
       "      <td>73.000000</td>\n",
       "      <td>70.000000</td>\n",
       "      <td>70.974998</td>\n",
       "      <td>49.120136</td>\n",
       "      <td>1338160.0</td>\n",
       "    </tr>\n",
       "  </tbody>\n",
       "</table>\n",
       "</div>"
      ],
      "text/plain": [
       "         Date       Open       High        Low      Close  Adj Close  \\\n",
       "0  2008-01-01  83.000000  83.612503  80.074997  80.512497  55.720848   \n",
       "1  2008-01-02  80.487503  81.474998  78.262497  78.587502  54.388577   \n",
       "2  2008-01-03  79.000000  79.187500  77.012497  77.500000  53.635952   \n",
       "3  2008-01-04  77.750000  79.237503  77.012497  78.762497  54.509697   \n",
       "4  2008-01-07  79.000000  79.000000  74.400002  74.824997  51.784660   \n",
       "5  2008-01-08  73.812500  76.599998  73.812500  75.212502  52.052830   \n",
       "6  2008-01-09  77.099998  77.099998  74.750000  75.025002  51.923077   \n",
       "7  2008-01-10  76.250000  76.250000  73.775002  74.050003  51.248302   \n",
       "8  2008-01-11  74.500000  75.000000  71.150002  72.224998  49.985245   \n",
       "9  2008-01-14  72.512497  73.000000  70.000000  70.974998  49.120136   \n",
       "\n",
       "      Volume  \n",
       "0   730260.0  \n",
       "1  1896700.0  \n",
       "2  2943936.0  \n",
       "3  2431480.0  \n",
       "4  5565516.0  \n",
       "5  3877976.0  \n",
       "6  4305368.0  \n",
       "7  1519052.0  \n",
       "8  3117668.0  \n",
       "9  1338160.0  "
      ]
     },
     "execution_count": 140,
     "metadata": {},
     "output_type": "execute_result"
    }
   ],
   "source": [
    "dfHCL.head(10)"
   ]
  },
  {
   "cell_type": "code",
   "execution_count": 145,
   "id": "590b9314",
   "metadata": {},
   "outputs": [
    {
     "data": {
      "text/html": [
       "<div>\n",
       "<style scoped>\n",
       "    .dataframe tbody tr th:only-of-type {\n",
       "        vertical-align: middle;\n",
       "    }\n",
       "\n",
       "    .dataframe tbody tr th {\n",
       "        vertical-align: top;\n",
       "    }\n",
       "\n",
       "    .dataframe thead th {\n",
       "        text-align: right;\n",
       "    }\n",
       "</style>\n",
       "<table border=\"1\" class=\"dataframe\">\n",
       "  <thead>\n",
       "    <tr style=\"text-align: right;\">\n",
       "      <th></th>\n",
       "      <th>Date</th>\n",
       "      <th>Open</th>\n",
       "      <th>High</th>\n",
       "      <th>Low</th>\n",
       "      <th>Close</th>\n",
       "      <th>Adj Close</th>\n",
       "      <th>Volume</th>\n",
       "    </tr>\n",
       "  </thead>\n",
       "  <tbody>\n",
       "    <tr>\n",
       "      <th>513</th>\n",
       "      <td>2010-02-06</td>\n",
       "      <td>85.25</td>\n",
       "      <td>85.5</td>\n",
       "      <td>84.287498</td>\n",
       "      <td>84.862503</td>\n",
       "      <td>63.861645</td>\n",
       "      <td>0.0</td>\n",
       "    </tr>\n",
       "  </tbody>\n",
       "</table>\n",
       "</div>"
      ],
      "text/plain": [
       "           Date   Open  High        Low      Close  Adj Close  Volume\n",
       "513  2010-02-06  85.25  85.5  84.287498  84.862503  63.861645     0.0"
      ]
     },
     "execution_count": 145,
     "metadata": {},
     "output_type": "execute_result"
    }
   ],
   "source": [
    "dfHCL[dfHCL[\"Date\"]==\"2010-02-06\"]"
   ]
  },
  {
   "cell_type": "code",
   "execution_count": null,
   "id": "2b5418d5",
   "metadata": {},
   "outputs": [],
   "source": []
  }
 ],
 "metadata": {
  "kernelspec": {
   "display_name": "Python 3 (ipykernel)",
   "language": "python",
   "name": "python3"
  },
  "language_info": {
   "codemirror_mode": {
    "name": "ipython",
    "version": 3
   },
   "file_extension": ".py",
   "mimetype": "text/x-python",
   "name": "python",
   "nbconvert_exporter": "python",
   "pygments_lexer": "ipython3",
   "version": "3.9.7"
  }
 },
 "nbformat": 4,
 "nbformat_minor": 5
}
