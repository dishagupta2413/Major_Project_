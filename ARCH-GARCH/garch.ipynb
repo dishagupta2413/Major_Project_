{
 "cells": [
  {
   "cell_type": "code",
   "execution_count": 21,
   "metadata": {},
   "outputs": [
    {
     "name": "stdout",
     "output_type": "stream",
     "text": [
      "Best AIC for: Asian_Paints -1635.745356969511\n",
      "Best Order (p, q): (1, 1)\n"
     ]
    },
    {
     "name": "stderr",
     "output_type": "stream",
     "text": [
      "C:\\Users\\Hp\\AppData\\Roaming\\Python\\Python310\\site-packages\\arch\\univariate\\base.py:766: ConvergenceWarning: The optimizer returned code 8. The message is:\n",
      "Positive directional derivative for linesearch\n",
      "See scipy.optimize.fmin_slsqp for code meaning.\n",
      "\n",
      "  warnings.warn(\n",
      "C:\\Users\\Hp\\AppData\\Roaming\\Python\\Python310\\site-packages\\arch\\univariate\\base.py:766: ConvergenceWarning: The optimizer returned code 8. The message is:\n",
      "Positive directional derivative for linesearch\n",
      "See scipy.optimize.fmin_slsqp for code meaning.\n",
      "\n",
      "  warnings.warn(\n",
      "C:\\Users\\Hp\\AppData\\Roaming\\Python\\Python310\\site-packages\\arch\\univariate\\base.py:766: ConvergenceWarning: The optimizer returned code 8. The message is:\n",
      "Positive directional derivative for linesearch\n",
      "See scipy.optimize.fmin_slsqp for code meaning.\n",
      "\n",
      "  warnings.warn(\n",
      "C:\\Users\\Hp\\AppData\\Roaming\\Python\\Python310\\site-packages\\arch\\univariate\\base.py:766: ConvergenceWarning: The optimizer returned code 8. The message is:\n",
      "Positive directional derivative for linesearch\n",
      "See scipy.optimize.fmin_slsqp for code meaning.\n",
      "\n",
      "  warnings.warn(\n",
      "C:\\Users\\Hp\\AppData\\Roaming\\Python\\Python310\\site-packages\\arch\\univariate\\base.py:766: ConvergenceWarning: The optimizer returned code 8. The message is:\n",
      "Positive directional derivative for linesearch\n",
      "See scipy.optimize.fmin_slsqp for code meaning.\n",
      "\n",
      "  warnings.warn(\n"
     ]
    },
    {
     "name": "stdout",
     "output_type": "stream",
     "text": [
      "Best AIC for: Bharat_Petroleum -1458.7546610362697\n",
      "Best Order (p, q): (2, 1)\n",
      "Best AIC for: Britannia -1646.4158521778777\n",
      "Best Order (p, q): (2, 1)\n"
     ]
    },
    {
     "name": "stderr",
     "output_type": "stream",
     "text": [
      "C:\\Users\\Hp\\AppData\\Roaming\\Python\\Python310\\site-packages\\arch\\univariate\\base.py:766: ConvergenceWarning: The optimizer returned code 8. The message is:\n",
      "Positive directional derivative for linesearch\n",
      "See scipy.optimize.fmin_slsqp for code meaning.\n",
      "\n",
      "  warnings.warn(\n",
      "C:\\Users\\Hp\\AppData\\Roaming\\Python\\Python310\\site-packages\\arch\\univariate\\base.py:766: ConvergenceWarning: The optimizer returned code 8. The message is:\n",
      "Positive directional derivative for linesearch\n",
      "See scipy.optimize.fmin_slsqp for code meaning.\n",
      "\n",
      "  warnings.warn(\n",
      "C:\\Users\\Hp\\AppData\\Roaming\\Python\\Python310\\site-packages\\arch\\univariate\\base.py:766: ConvergenceWarning: The optimizer returned code 8. The message is:\n",
      "Positive directional derivative for linesearch\n",
      "See scipy.optimize.fmin_slsqp for code meaning.\n",
      "\n",
      "  warnings.warn(\n",
      "C:\\Users\\Hp\\AppData\\Roaming\\Python\\Python310\\site-packages\\arch\\univariate\\base.py:766: ConvergenceWarning: The optimizer returned code 8. The message is:\n",
      "Positive directional derivative for linesearch\n",
      "See scipy.optimize.fmin_slsqp for code meaning.\n",
      "\n",
      "  warnings.warn(\n",
      "C:\\Users\\Hp\\AppData\\Roaming\\Python\\Python310\\site-packages\\arch\\univariate\\base.py:766: ConvergenceWarning: The optimizer returned code 8. The message is:\n",
      "Positive directional derivative for linesearch\n",
      "See scipy.optimize.fmin_slsqp for code meaning.\n",
      "\n",
      "  warnings.warn(\n",
      "C:\\Users\\Hp\\AppData\\Roaming\\Python\\Python310\\site-packages\\arch\\univariate\\base.py:766: ConvergenceWarning: The optimizer returned code 8. The message is:\n",
      "Positive directional derivative for linesearch\n",
      "See scipy.optimize.fmin_slsqp for code meaning.\n",
      "\n",
      "  warnings.warn(\n",
      "C:\\Users\\Hp\\AppData\\Roaming\\Python\\Python310\\site-packages\\arch\\univariate\\base.py:766: ConvergenceWarning: The optimizer returned code 8. The message is:\n",
      "Positive directional derivative for linesearch\n",
      "See scipy.optimize.fmin_slsqp for code meaning.\n",
      "\n",
      "  warnings.warn(\n",
      "C:\\Users\\Hp\\AppData\\Roaming\\Python\\Python310\\site-packages\\arch\\univariate\\base.py:766: ConvergenceWarning: The optimizer returned code 8. The message is:\n",
      "Positive directional derivative for linesearch\n",
      "See scipy.optimize.fmin_slsqp for code meaning.\n",
      "\n",
      "  warnings.warn(\n"
     ]
    },
    {
     "name": "stdout",
     "output_type": "stream",
     "text": [
      "Best AIC for: Cipla -1479.0688697309606\n",
      "Best Order (p, q): (2, 4)\n",
      "Best AIC for: Coal_India -1311.0624426005265\n",
      "Best Order (p, q): (2, 3)\n"
     ]
    },
    {
     "name": "stderr",
     "output_type": "stream",
     "text": [
      "C:\\Users\\Hp\\AppData\\Roaming\\Python\\Python310\\site-packages\\arch\\univariate\\base.py:766: ConvergenceWarning: The optimizer returned code 8. The message is:\n",
      "Positive directional derivative for linesearch\n",
      "See scipy.optimize.fmin_slsqp for code meaning.\n",
      "\n",
      "  warnings.warn(\n"
     ]
    },
    {
     "name": "stdout",
     "output_type": "stream",
     "text": [
      "Best AIC for: Dr_Reddy -1593.302830321587\n",
      "Best Order (p, q): (1, 3)\n"
     ]
    },
    {
     "name": "stderr",
     "output_type": "stream",
     "text": [
      "C:\\Users\\Hp\\AppData\\Roaming\\Python\\Python310\\site-packages\\arch\\univariate\\base.py:766: ConvergenceWarning: The optimizer returned code 8. The message is:\n",
      "Positive directional derivative for linesearch\n",
      "See scipy.optimize.fmin_slsqp for code meaning.\n",
      "\n",
      "  warnings.warn(\n",
      "C:\\Users\\Hp\\AppData\\Roaming\\Python\\Python310\\site-packages\\arch\\univariate\\base.py:766: ConvergenceWarning: The optimizer returned code 8. The message is:\n",
      "Positive directional derivative for linesearch\n",
      "See scipy.optimize.fmin_slsqp for code meaning.\n",
      "\n",
      "  warnings.warn(\n",
      "C:\\Users\\Hp\\AppData\\Roaming\\Python\\Python310\\site-packages\\arch\\univariate\\base.py:766: ConvergenceWarning: The optimizer returned code 8. The message is:\n",
      "Positive directional derivative for linesearch\n",
      "See scipy.optimize.fmin_slsqp for code meaning.\n",
      "\n",
      "  warnings.warn(\n"
     ]
    },
    {
     "name": "stdout",
     "output_type": "stream",
     "text": [
      "Best AIC for: Eicher -1330.8181363862655\n",
      "Best Order (p, q): (1, 1)\n",
      "Best AIC for: HDFC_Bank -1592.4503949445682\n",
      "Best Order (p, q): (2, 2)\n",
      "Best AIC for: Hero_Motocorp -1349.7699624917186\n",
      "Best Order (p, q): (1, 1)\n",
      "Best AIC for: Hindalco -1411.8068226856303\n",
      "Best Order (p, q): (1, 1)\n",
      "Best AIC for: Hindustan_Unilever -1642.3638295696073\n",
      "Best Order (p, q): (1, 1)\n"
     ]
    },
    {
     "name": "stderr",
     "output_type": "stream",
     "text": [
      "C:\\Users\\Hp\\AppData\\Roaming\\Python\\Python310\\site-packages\\arch\\univariate\\base.py:766: ConvergenceWarning: The optimizer returned code 8. The message is:\n",
      "Positive directional derivative for linesearch\n",
      "See scipy.optimize.fmin_slsqp for code meaning.\n",
      "\n",
      "  warnings.warn(\n"
     ]
    },
    {
     "name": "stdout",
     "output_type": "stream",
     "text": [
      "Best AIC for: Infosys -1486.3446709494624\n",
      "Best Order (p, q): (4, 1)\n",
      "Best AIC for: JSW_Steel -1534.5890690325255\n",
      "Best Order (p, q): (1, 1)\n",
      "Best AIC for: Kotak_Mahindra -1501.5978946297066\n",
      "Best Order (p, q): (1, 1)\n"
     ]
    },
    {
     "name": "stderr",
     "output_type": "stream",
     "text": [
      "C:\\Users\\Hp\\AppData\\Roaming\\Python\\Python310\\site-packages\\arch\\univariate\\base.py:766: ConvergenceWarning: The optimizer returned code 8. The message is:\n",
      "Positive directional derivative for linesearch\n",
      "See scipy.optimize.fmin_slsqp for code meaning.\n",
      "\n",
      "  warnings.warn(\n",
      "C:\\Users\\Hp\\AppData\\Roaming\\Python\\Python310\\site-packages\\arch\\univariate\\base.py:766: ConvergenceWarning: The optimizer returned code 8. The message is:\n",
      "Positive directional derivative for linesearch\n",
      "See scipy.optimize.fmin_slsqp for code meaning.\n",
      "\n",
      "  warnings.warn(\n",
      "C:\\Users\\Hp\\AppData\\Roaming\\Python\\Python310\\site-packages\\arch\\univariate\\base.py:766: ConvergenceWarning: The optimizer returned code 8. The message is:\n",
      "Positive directional derivative for linesearch\n",
      "See scipy.optimize.fmin_slsqp for code meaning.\n",
      "\n",
      "  warnings.warn(\n",
      "C:\\Users\\Hp\\AppData\\Roaming\\Python\\Python310\\site-packages\\arch\\univariate\\base.py:766: ConvergenceWarning: The optimizer returned code 8. The message is:\n",
      "Positive directional derivative for linesearch\n",
      "See scipy.optimize.fmin_slsqp for code meaning.\n",
      "\n",
      "  warnings.warn(\n"
     ]
    },
    {
     "name": "stdout",
     "output_type": "stream",
     "text": [
      "Best AIC for: L&T -1415.6218565917966\n",
      "Best Order (p, q): (1, 1)\n",
      "Best AIC for: Nestle -1506.4688971406501\n",
      "Best Order (p, q): (1, 1)\n"
     ]
    },
    {
     "name": "stderr",
     "output_type": "stream",
     "text": [
      "C:\\Users\\Hp\\AppData\\Roaming\\Python\\Python310\\site-packages\\arch\\univariate\\base.py:766: ConvergenceWarning: The optimizer returned code 8. The message is:\n",
      "Positive directional derivative for linesearch\n",
      "See scipy.optimize.fmin_slsqp for code meaning.\n",
      "\n",
      "  warnings.warn(\n",
      "C:\\Users\\Hp\\AppData\\Roaming\\Python\\Python310\\site-packages\\arch\\univariate\\base.py:766: ConvergenceWarning: The optimizer returned code 8. The message is:\n",
      "Positive directional derivative for linesearch\n",
      "See scipy.optimize.fmin_slsqp for code meaning.\n",
      "\n",
      "  warnings.warn(\n",
      "C:\\Users\\Hp\\AppData\\Roaming\\Python\\Python310\\site-packages\\arch\\univariate\\base.py:766: ConvergenceWarning: The optimizer returned code 8. The message is:\n",
      "Positive directional derivative for linesearch\n",
      "See scipy.optimize.fmin_slsqp for code meaning.\n",
      "\n",
      "  warnings.warn(\n"
     ]
    },
    {
     "name": "stdout",
     "output_type": "stream",
     "text": [
      "Best AIC for: NTPC -1380.63603913122\n",
      "Best Order (p, q): (2, 2)\n"
     ]
    },
    {
     "name": "stderr",
     "output_type": "stream",
     "text": [
      "C:\\Users\\Hp\\AppData\\Roaming\\Python\\Python310\\site-packages\\arch\\univariate\\base.py:766: ConvergenceWarning: The optimizer returned code 8. The message is:\n",
      "Positive directional derivative for linesearch\n",
      "See scipy.optimize.fmin_slsqp for code meaning.\n",
      "\n",
      "  warnings.warn(\n"
     ]
    },
    {
     "name": "stdout",
     "output_type": "stream",
     "text": [
      "Best AIC for: ONGC -1367.9615100378237\n",
      "Best Order (p, q): (1, 1)\n",
      "Best AIC for: PowerGrid_corp -1369.7711927116052\n",
      "Best Order (p, q): (1, 1)\n",
      "Best AIC for: Reliance_Industries -1592.7160203968256\n",
      "Best Order (p, q): (2, 1)\n",
      "Best AIC for: SBI -1525.2242711182569\n",
      "Best Order (p, q): (1, 1)\n",
      "Best AIC for: Tata_Motors -1364.6903537756134\n",
      "Best Order (p, q): (1, 1)\n",
      "Best AIC for: Tata_Steel -1508.5406765045084\n",
      "Best Order (p, q): (1, 1)\n"
     ]
    },
    {
     "name": "stderr",
     "output_type": "stream",
     "text": [
      "C:\\Users\\Hp\\AppData\\Roaming\\Python\\Python310\\site-packages\\arch\\univariate\\base.py:766: ConvergenceWarning: The optimizer returned code 8. The message is:\n",
      "Positive directional derivative for linesearch\n",
      "See scipy.optimize.fmin_slsqp for code meaning.\n",
      "\n",
      "  warnings.warn(\n",
      "C:\\Users\\Hp\\AppData\\Roaming\\Python\\Python310\\site-packages\\arch\\univariate\\base.py:766: ConvergenceWarning: The optimizer returned code 8. The message is:\n",
      "Positive directional derivative for linesearch\n",
      "See scipy.optimize.fmin_slsqp for code meaning.\n",
      "\n",
      "  warnings.warn(\n",
      "C:\\Users\\Hp\\AppData\\Roaming\\Python\\Python310\\site-packages\\arch\\univariate\\base.py:766: ConvergenceWarning: The optimizer returned code 8. The message is:\n",
      "Positive directional derivative for linesearch\n",
      "See scipy.optimize.fmin_slsqp for code meaning.\n",
      "\n",
      "  warnings.warn(\n",
      "C:\\Users\\Hp\\AppData\\Roaming\\Python\\Python310\\site-packages\\arch\\univariate\\base.py:766: ConvergenceWarning: The optimizer returned code 8. The message is:\n",
      "Positive directional derivative for linesearch\n",
      "See scipy.optimize.fmin_slsqp for code meaning.\n",
      "\n",
      "  warnings.warn(\n"
     ]
    },
    {
     "name": "stdout",
     "output_type": "stream",
     "text": [
      "Best AIC for: Wipro -1404.4598178795688\n",
      "Best Order (p, q): (1, 2)\n",
      "Forecasted Volatility Results:\n",
      "Asian_Paints: 0.01068319176043105\n",
      "Bharat_Petroleum: 0.01691802398400044\n",
      "Britannia: 0.009760031758591754\n",
      "Cipla: 0.012940792819500403\n",
      "Coal_India: 0.022731199815691428\n",
      "Dr_Reddy: 0.013870433434172859\n",
      "Eicher: 0.015325829825893086\n",
      "HDFC_Bank: 0.01310097761731082\n",
      "Hero_Motocorp: 0.0161331089920088\n",
      "Hindalco: 0.015719356685065005\n",
      "Hindustan_Unilever: 0.012158764292309459\n",
      "Infosys: 0.011251837826624641\n",
      "JSW_Steel: 0.013345322603930837\n",
      "Kotak_Mahindra: 0.011229295673166134\n",
      "L&T: 0.013646839246624201\n",
      "Nestle: 0.010670751307461234\n",
      "NTPC: 0.01765283393116566\n",
      "ONGC: 0.01519874177649771\n",
      "PowerGrid_corp: 0.020542923655907767\n",
      "Reliance_Industries: 0.030008067315138526\n",
      "SBI: 0.013620858958666023\n",
      "Tata_Motors: 0.014573578265695962\n",
      "Tata_Steel: 0.012962166062332636\n",
      "Wipro: 0.018508545328969287\n",
      "Actual Volatility Results:\n",
      "Asian_Paints: 0.00011588706893283964\n",
      "Bharat_Petroleum: 0.0002318059098691329\n",
      "Britannia: 0.00011258918678617357\n",
      "Cipla: 0.00021698424358123665\n",
      "Coal_India: 0.00031412745579264943\n",
      "Dr_Reddy: 0.0001386187580409325\n",
      "Eicher: 0.0002446654672519577\n",
      "HDFC_Bank: 0.00014690420167985004\n",
      "Hero_Motocorp: 0.0002433272544825247\n",
      "Hindalco: 0.00027281503846836124\n",
      "Hindustan_Unilever: 0.00011421587121380038\n",
      "Infosys: 0.00023790470971022122\n",
      "JSW_Steel: 0.00017226610089222428\n",
      "Kotak_Mahindra: 0.00012663769983795766\n",
      "L&T: 0.00017681083583296652\n",
      "Nestle: 0.0001243082439547932\n",
      "NTPC: 0.0002236611382545911\n",
      "ONGC: 0.00024522619371708016\n",
      "PowerGrid_corp: 0.00023864038772482068\n",
      "Reliance_Industries: 0.00014571049953273198\n",
      "SBI: 0.0001803864960033607\n",
      "Tata_Motors: 0.00022641579199810053\n",
      "Tata_Steel: 0.0001898144964606074\n",
      "Wipro: 0.00020238079855659232\n",
      "Companies with insignificant parameters: ['PowerGrid_corp']\n",
      "Companies with significant parameters: ['Asian_Paints', 'Bharat_Petroleum', 'Britannia', 'Cipla', 'Coal_India', 'Dr_Reddy', 'Eicher', 'HDFC_Bank', 'Hero_Motocorp', 'Hindalco', 'Hindustan_Unilever', 'Infosys', 'JSW_Steel', 'Kotak_Mahindra', 'L&T', 'Nestle', 'NTPC', 'ONGC', 'Reliance_Industries', 'SBI', 'Tata_Motors', 'Tata_Steel', 'Wipro']\n"
     ]
    },
    {
     "name": "stderr",
     "output_type": "stream",
     "text": [
      "C:\\Users\\Hp\\AppData\\Roaming\\Python\\Python310\\site-packages\\arch\\univariate\\base.py:766: ConvergenceWarning: The optimizer returned code 8. The message is:\n",
      "Positive directional derivative for linesearch\n",
      "See scipy.optimize.fmin_slsqp for code meaning.\n",
      "\n",
      "  warnings.warn(\n"
     ]
    }
   ],
   "source": [
    "import pandas as pd\n",
    "import numpy as np\n",
    "from arch import arch_model\n",
    "\n",
    "# Load historical stock price data for all 15 companies into a dictionary\n",
    "# Replace 'stock_data' with your actual data source, which can be a dictionary of DataFrames\n",
    "stock_data = {\n",
    "    'Asian_Paints': pd.read_csv('../ArchGarchDatasets/AsianPaints.csv', index_col=0),\n",
    "    'Bharat_Petroleum': pd.read_csv('../ArchGarchDatasets/BharatPetroleum.csv', index_col=0),\n",
    "    'Britannia':pd.read_csv('../ArchGarchDatasets/Britannia Industries.csv',index_col=0),\n",
    "    'Cipla':pd.read_csv('../ArchGarchDatasets/Cipla.csv',index_col=0),\n",
    "    'Coal_India':pd.read_csv('../ArchGarchDatasets/CoalIndia.csv',index_col=0),\n",
    "    'Dr_Reddy':pd.read_csv('../ArchGarchDatasets/DrReddy.csv',index_col=0),\n",
    "    'Eicher':pd.read_csv('../ArchGarchDatasets/Eicher Motors.csv',index_col=0),\n",
    "    'HDFC_Bank': pd.read_csv('../ArchGarchDatasets/HdfcBank.csv', index_col=0),\n",
    "    'Hero_Motocorp':pd.read_csv('../ArchGarchDatasets/HeroMotocorp.csv',index_col=0),\n",
    "    'Hindalco':pd.read_csv('../ArchGarchDatasets/Hindalco.csv',index_col=0),\n",
    "    'Hindustan_Unilever':pd.read_csv('../ArchGarchDatasets/HindustanUnilever.csv',index_col=0),\n",
    "    'Infosys': pd.read_csv('../ArchGarchDatasets/Infosys.csv', index_col=0),\n",
    "    'JSW_Steel':pd.read_csv('../ArchGarchDatasets/Jswsteel.csv', index_col=0),\n",
    "    'Kotak_Mahindra':pd.read_csv('../ArchGarchDatasets/KotakMahindra.csv', index_col=0),\n",
    "    \"L&T\":pd.read_csv('../ArchGarchDatasets/L&T.csv',index_col=0),\n",
    "    'Nestle':pd.read_csv('../ArchGarchDatasets/Nestle.csv', index_col=0),\n",
    "    'NTPC':pd.read_csv('../ArchGarchDatasets/NTPC.csv', index_col=0),\n",
    "    'ONGC':pd.read_csv('../ArchGarchDatasets/ONGC.csv', index_col=0),\n",
    "    'PowerGrid_corp':pd.read_csv('../ArchGarchDatasets/PowerGrid.csv', index_col=0),\n",
    "    'Reliance_Industries':pd.read_csv('../ArchGarchDatasets/RelianceIndustries.csv', index_col=0),\n",
    "    'SBI': pd.read_csv('../ArchGarchDatasets/SbiBank.csv', index_col=0),\n",
    "    'Tata_Motors':pd.read_csv('../ArchGarchDatasets/TataMotors.csv', index_col=0),\n",
    "    'Tata_Steel':pd.read_csv('../ArchGarchDatasets/TataSteel.csv', index_col=0),\n",
    "    'Wipro':pd.read_csv('../ArchGarchDatasets/Wipro.csv', index_col=0),\n",
    "}\n",
    "def select_best_order(returns):\n",
    "    best_aic = np.inf  # Initialize with a very large value\n",
    "    best_order = None\n",
    "\n",
    "    # Loop over potential values of p and q\n",
    "    for p in range(1, 6):  # Maximum lag order for ARCH model\n",
    "        for q in range(1, 6):  # Maximum lag order for GARCH model\n",
    "            # Fit ARCH/GARCH model with current p and q values\n",
    "            model = arch_model(returns, vol='Garch', p=p, q=q,rescale=False)\n",
    "            result = model.fit(disp='off')  # Suppress output for simplicity\n",
    "            \n",
    "            # Calculate AIC\n",
    "            aic = result.aic\n",
    "            \n",
    "            # Check if current AIC is the best so far\n",
    "            if aic < best_aic:\n",
    "                best_aic = aic\n",
    "                best_order = (p, q)\n",
    "                p_value=p\n",
    "                q_value=q\n",
    "\n",
    "    return best_aic, best_order,p_value,q_value\n",
    "\n",
    "# Dictionary to store calculated volatilities for each company\n",
    "volatility_results = {}\n",
    "\n",
    "# Loop over each company's stock price data\n",
    "actual_volatilities={}\n",
    "significant_companies = []\n",
    "insignificant_companies = []\n",
    "for company, data in stock_data.items():\n",
    "    # Calculate returns\n",
    "    returns = data['Close'].pct_change().dropna()  \n",
    "    rescaled_returns=returns\n",
    "    squared_diff = rescaled_returns ** 2\n",
    "    actual_volatilities[company] = squared_diff.mean()\n",
    "    best_aic, best_order,p_value,q_value = select_best_order(rescaled_returns)\n",
    "    print(\"Best AIC for:\",company, best_aic)\n",
    "    print(\"Best Order (p, q):\", best_order)\n",
    "    \n",
    "    # Fit GARCH model\n",
    "    model = arch_model(rescaled_returns, vol='Garch', p=p_value, q=q_value,rescale=False)\n",
    "    fitted_model = model.fit(disp='off')  # Suppress output for simplicity\n",
    "\n",
    "    p_values = fitted_model.pvalues\n",
    "    \n",
    "   \n",
    "    threshold_significance = 0.05  \n",
    "\n",
    "    if any(p_values > threshold_significance):\n",
    "        insignificant_companies.append(company)\n",
    "    else:\n",
    "        significant_companies.append(company)\n",
    "\n",
    "# Print the lists of significant and insignificant companies\n",
    "\n",
    "\n",
    "\n",
    "    \n",
    "    # Forecast volatility for the next 1 day\n",
    "    forecast = fitted_model.forecast(horizon=1)\n",
    "    forecast_volatility = np.sqrt(forecast.variance.iloc[-1].values[0])\n",
    "    \n",
    "    # Store the result in the dictionary\n",
    "    volatility_results[company] = forecast_volatility\n",
    "\n",
    "# Print the dictionary containing calculated volatilities for each company\n",
    "volatilities={}\n",
    "print(\"Forecasted Volatility Results:\")\n",
    "for company, volatility in volatility_results.items():\n",
    "    volatilities[company]=volatility\n",
    "    print(f\"{company}: {volatility}\")\n",
    "print(\"Actual Volatility Results:\")\n",
    "for company, volatility in actual_volatilities.items():\n",
    "    actual_volatilities[company]=volatility\n",
    "    print(f\"{company}: {volatility}\")\n",
    "\n",
    "# print(volatilities)\n",
    "print(\"Companies with insignificant parameters:\", significant_companies)\n",
    "print(\"Companies with significant parameters:\", insignificant_companies)\n",
    "\n",
    "\n"
   ]
  },
  {
   "cell_type": "code",
   "execution_count": 23,
   "metadata": {},
   "outputs": [
    {
     "name": "stdout",
     "output_type": "stream",
     "text": [
      "Filtered companies (Fixed Threshold): ['Asian_Paints', 'Bharat_Petroleum', 'Britannia', 'Cipla', 'Dr_Reddy', 'Eicher', 'HDFC_Bank', 'Hero_Motocorp', 'Hindalco', 'Hindustan_Unilever', 'Infosys', 'JSW_Steel', 'Kotak_Mahindra', 'L&T', 'Nestle', 'NTPC', 'ONGC', 'SBI', 'Tata_Motors', 'Tata_Steel', 'Wipro']\n"
     ]
    }
   ],
   "source": [
    "\n",
    "def filter_by_fixed_threshold(volatility, threshold):\n",
    "    return volatility <= threshold\n",
    "\n",
    "threshold_fixed = 0.02  \n",
    "\n",
    "filtered_companies_fixed = [company for company, vol in volatilities.items() if filter_by_fixed_threshold(vol, threshold_fixed)]\n",
    "\n",
    "print(\"Filtered companies (Fixed Threshold):\", filtered_companies_fixed)\n"
   ]
  },
  {
   "cell_type": "code",
   "execution_count": 19,
   "metadata": {},
   "outputs": [
    {
     "name": "stdout",
     "output_type": "stream",
     "text": [
      "Companies with significant parameters: []\n",
      "Companies with insignificant parameters: ['Wipro']\n"
     ]
    }
   ],
   "source": []
  },
  {
   "cell_type": "code",
   "execution_count": 68,
   "metadata": {},
   "outputs": [
    {
     "name": "stdout",
     "output_type": "stream",
     "text": [
      "Asian_Paints: 0.01068319176043105\n",
      "Bharat_Petroleum: 0.01691802398400044\n",
      "Cipla: 0.012940792819500403\n",
      "Coal_India: 0.022731199815691428\n",
      "Dr_Reddy: 0.013870433434172859\n",
      "HDFC_Bank: 0.01310097761731082\n",
      "Hero_Motocorp: 0.0161331089920088\n",
      "Hindustan_Unilever: 0.012158764292309459\n",
      "Infosys: 0.011251837826624641\n",
      "JSW_Steel: 0.013345322603930837\n",
      "Kotak_Mahindra: 0.011229295673166134\n",
      "Nestle: 0.010670751307461234\n",
      "NTPC: 0.01765283393116566\n",
      "ONGC: 0.01519874177649771\n",
      "PowerGrid_corp: 0.020542923655907767\n",
      "Reliance_Industries: 0.030008067315138526\n",
      "SBI: 0.013620858958666023\n",
      "Tata_Motors: 0.014573578265695962\n",
      "Tata_Steel: 0.012962166062332636\n",
      "Wipro: 0.018508545328969287\n"
     ]
    }
   ],
   "source": [
    "# print(volatilities)\n",
    "for company, volatility in volatilities.items():\n",
    "    volatilities[company]=volatility\n",
    "    print(f\"{company}: {volatility}\")\n"
   ]
  },
  {
   "cell_type": "code",
   "execution_count": 69,
   "metadata": {},
   "outputs": [
    {
     "name": "stdout",
     "output_type": "stream",
     "text": [
      "Asian_Paints: 0.00011588706893283964\n",
      "Bharat_Petroleum: 0.0002318059098691329\n",
      "Cipla: 0.00021698424358123665\n",
      "Coal_India: 0.00031412745579264943\n",
      "Dr_Reddy: 0.0001386187580409325\n",
      "HDFC_Bank: 0.00014690420167985004\n",
      "Hero_Motocorp: 0.0002433272544825247\n",
      "Hindustan_Unilever: 0.00011421587121380038\n",
      "Infosys: 0.00023790470971022122\n",
      "JSW_Steel: 0.00017226610089222428\n",
      "Kotak_Mahindra: 0.00012663769983795766\n",
      "Nestle: 0.0001243082439547932\n",
      "NTPC: 0.0002236611382545911\n",
      "ONGC: 0.00024522619371708016\n",
      "PowerGrid_corp: 0.00023864038772482068\n",
      "Reliance_Industries: 0.00014571049953273198\n",
      "SBI: 0.0001803864960033607\n",
      "Tata_Motors: 0.00022641579199810053\n",
      "Tata_Steel: 0.0001898144964606074\n",
      "Wipro: 0.00020238079855659232\n"
     ]
    }
   ],
   "source": [
    "for company, volatility in actual_volatilities.items():\n",
    "    actual_volatilities[company]=volatility\n",
    "    print(f\"{company}: {volatility}\")"
   ]
  },
  {
   "cell_type": "code",
   "execution_count": 71,
   "metadata": {},
   "outputs": [
    {
     "name": "stdout",
     "output_type": "stream",
     "text": [
      "Root Mean Square Error Results :\n",
      "Asian_Paints: 0.01056730469149821\n",
      "Bharat_Petroleum: 0.016686218074131308\n",
      "Cipla: 0.012723808575919166\n",
      "Coal_India: 0.022417072359898777\n",
      "Dr_Reddy: 0.013731814676131927\n",
      "HDFC_Bank: 0.01295407341563097\n",
      "Hero_Motocorp: 0.01588978173752628\n",
      "Hindustan_Unilever: 0.012044548421095659\n",
      "Infosys: 0.01101393311691442\n",
      "JSW_Steel: 0.013173056503038613\n",
      "Kotak_Mahindra: 0.011102657973328177\n",
      "Nestle: 0.01054644306350644\n",
      "NTPC: 0.01742917279291107\n",
      "ONGC: 0.01495351558278063\n",
      "PowerGrid_corp: 0.020304283268182947\n",
      "Reliance_Industries: 0.029862356815605794\n",
      "SBI: 0.013440472462662662\n",
      "Tata_Motors: 0.014347162473697862\n",
      "Tata_Steel: 0.01277235156587203\n",
      "Wipro: 0.018306164530412696\n"
     ]
    }
   ],
   "source": [
    "import numpy as np\n",
    "rmse_per_company = {}\n",
    "for company in volatilities.keys():\n",
    "    # Calculate squared difference\n",
    "    squared_diff = (volatilities[company] - actual_volatilities[company]) ** 2\n",
    "    # Calculate RMSE\n",
    "    rmse_per_company[company] = np.sqrt(squared_diff)\n",
    "\n",
    "# Display RMSE for each company\n",
    "print(\"Root Mean Square Error Results :\")\n",
    "for company, rmse in rmse_per_company.items():\n",
    "    print(f\"{company}: {rmse}\")"
   ]
  },
  {
   "cell_type": "code",
   "execution_count": 73,
   "metadata": {},
   "outputs": [
    {
     "name": "stdout",
     "output_type": "stream",
     "text": [
      "Asian_Paints: 0.050854655340834484\n",
      "Bharat_Petroleum: 0.05135344191872004\n",
      "Cipla: 0.051035263425560036\n",
      "Coal_India: 0.051818495985255314\n",
      "Dr_Reddy: 0.05110963467473383\n",
      "HDFC_Bank: 0.05104807820938487\n",
      "Hero_Motocorp: 0.051290648719360704\n",
      "Hindustan_Unilever: 0.05097270114338476\n",
      "Infosys: 0.05090014702612997\n",
      "JSW_Steel: 0.05106762580831447\n",
      "Kotak_Mahindra: 0.0508983436538533\n",
      "Nestle: 0.0508536601045969\n",
      "NTPC: 0.051412226714493255\n",
      "ONGC: 0.05121589934211982\n",
      "PowerGrid_corp: 0.051643433892472626\n",
      "Reliance_Industries: 0.05240064538521109\n",
      "SBI: 0.051089668716693286\n",
      "Tata_Motors: 0.05116588626125568\n",
      "Tata_Steel: 0.05103697328498662\n",
      "Wipro: 0.051480683626317546\n"
     ]
    }
   ],
   "source": [
    "# Assuming a risk-free rate\n",
    "risk_free_rate = 0.05  # 5% annual risk-free rate\n",
    "\n",
    "# Assuming a market risk premium\n",
    "market_risk_premium = 0.08  # 8% annual market risk premium\n",
    "\n",
    "# Calculating expected returns using CAPM\n",
    "expected_returns = {}\n",
    "for stock, volatility in volatilities.items():\n",
    "    beta = 1.0  # Assuming beta of 1 for simplicity\n",
    "    expected_return = risk_free_rate + beta * market_risk_premium * volatility\n",
    "    expected_returns[stock] = expected_return\n",
    "\n",
    "# Display expected returns\n",
    "for stock, expected_return in expected_returns.items():\n",
    "    print(f\"{stock}: {expected_return}\")"
   ]
  },
  {
   "cell_type": "code",
   "execution_count": 74,
   "metadata": {},
   "outputs": [
    {
     "name": "stdout",
     "output_type": "stream",
     "text": [
      "20\n",
      "var1881\n"
     ]
    }
   ],
   "source": [
    "import numpy as np\n",
    "import cvxpy as cp\n",
    "\n",
    "num_stocks = len(volatilities)\n",
    "\n",
    "print(num_stocks)\n",
    "weights = cp.Variable(num_stocks)\n",
    "print(weights)"
   ]
  },
  {
   "cell_type": "code",
   "execution_count": 75,
   "metadata": {},
   "outputs": [
    {
     "name": "stdout",
     "output_type": "stream",
     "text": [
      "power(QuadForm(var1881, [[0.01 0.00 ... 0.00 0.00]\n",
      " [0.00 0.02 ... 0.00 0.00]\n",
      " ...\n",
      " [0.00 0.00 ... 0.01 0.00]\n",
      " [0.00 0.00 ... 0.00 0.02]]), 0.5)\n"
     ]
    }
   ],
   "source": [
    "portfolio_volatility = cp.sqrt(cp.quad_form(weights, np.diag(list(volatilities.values()))))\n",
    "print(portfolio_volatility)"
   ]
  },
  {
   "cell_type": "code",
   "execution_count": 76,
   "metadata": {},
   "outputs": [
    {
     "name": "stdout",
     "output_type": "stream",
     "text": [
      "minimize power(QuadForm(var1881, [[0.01 0.00 ... 0.00 0.00]\n",
      " [0.00 0.02 ... 0.00 0.00]\n",
      " ...\n",
      " [0.00 0.00 ... 0.01 0.00]\n",
      " [0.00 0.00 ... 0.00 0.02]]), 0.5)\n",
      "subject to Sum(var1881, None, False) == 1.0\n",
      "           0.0 <= var1881\n"
     ]
    }
   ],
   "source": [
    "constraints = [cp.sum(weights) == 1, weights >= 0]\n",
    "\n",
    "# Create optimization problem\n",
    "problem = cp.Problem(cp.Minimize(portfolio_volatility), constraints)\n",
    "print(problem)"
   ]
  },
  {
   "cell_type": "code",
   "execution_count": 77,
   "metadata": {},
   "outputs": [
    {
     "name": "stderr",
     "output_type": "stream",
     "text": [
      "C:\\Users\\Hp\\AppData\\Roaming\\Python\\Python310\\site-packages\\cvxpy\\reductions\\solvers\\solving_chain.py:336: FutureWarning: \n",
      "    Your problem is being solved with the ECOS solver by default. Starting in \n",
      "    CVXPY 1.5.0, Clarabel will be used as the default solver instead. To continue \n",
      "    using ECOS, specify the ECOS solver explicitly using the ``solver=cp.ECOS`` \n",
      "    argument to the ``problem.solve`` method.\n",
      "    \n",
      "  warnings.warn(ECOS_DEPRECATION_MSG, FutureWarning)\n",
      "C:\\Users\\Hp\\AppData\\Roaming\\Python\\Python310\\site-packages\\cvxpy\\reductions\\solvers\\solving_chain.py:336: FutureWarning: \n",
      "    Your problem is being solved with the ECOS solver by default. Starting in \n",
      "    CVXPY 1.5.0, Clarabel will be used as the default solver instead. To continue \n",
      "    using ECOS, specify the ECOS solver explicitly using the ``solver=cp.ECOS`` \n",
      "    argument to the ``problem.solve`` method.\n",
      "    \n",
      "  warnings.warn(ECOS_DEPRECATION_MSG, FutureWarning)\n",
      "C:\\Users\\Hp\\AppData\\Roaming\\Python\\Python310\\site-packages\\cvxpy\\reductions\\solvers\\solving_chain.py:336: FutureWarning: \n",
      "    Your problem is being solved with the ECOS solver by default. Starting in \n",
      "    CVXPY 1.5.0, Clarabel will be used as the default solver instead. To continue \n",
      "    using ECOS, specify the ECOS solver explicitly using the ``solver=cp.ECOS`` \n",
      "    argument to the ``problem.solve`` method.\n",
      "    \n",
      "  warnings.warn(ECOS_DEPRECATION_MSG, FutureWarning)\n",
      "C:\\Users\\Hp\\AppData\\Roaming\\Python\\Python310\\site-packages\\cvxpy\\reductions\\solvers\\solving_chain.py:336: FutureWarning: \n",
      "    Your problem is being solved with the ECOS solver by default. Starting in \n",
      "    CVXPY 1.5.0, Clarabel will be used as the default solver instead. To continue \n",
      "    using ECOS, specify the ECOS solver explicitly using the ``solver=cp.ECOS`` \n",
      "    argument to the ``problem.solve`` method.\n",
      "    \n",
      "  warnings.warn(ECOS_DEPRECATION_MSG, FutureWarning)\n",
      "C:\\Users\\Hp\\AppData\\Roaming\\Python\\Python310\\site-packages\\cvxpy\\reductions\\solvers\\solving_chain.py:336: FutureWarning: \n",
      "    Your problem is being solved with the ECOS solver by default. Starting in \n",
      "    CVXPY 1.5.0, Clarabel will be used as the default solver instead. To continue \n",
      "    using ECOS, specify the ECOS solver explicitly using the ``solver=cp.ECOS`` \n",
      "    argument to the ``problem.solve`` method.\n",
      "    \n",
      "  warnings.warn(ECOS_DEPRECATION_MSG, FutureWarning)\n",
      "C:\\Users\\Hp\\AppData\\Roaming\\Python\\Python310\\site-packages\\cvxpy\\reductions\\solvers\\solving_chain.py:336: FutureWarning: \n",
      "    Your problem is being solved with the ECOS solver by default. Starting in \n",
      "    CVXPY 1.5.0, Clarabel will be used as the default solver instead. To continue \n",
      "    using ECOS, specify the ECOS solver explicitly using the ``solver=cp.ECOS`` \n",
      "    argument to the ``problem.solve`` method.\n",
      "    \n",
      "  warnings.warn(ECOS_DEPRECATION_MSG, FutureWarning)\n",
      "C:\\Users\\Hp\\AppData\\Roaming\\Python\\Python310\\site-packages\\cvxpy\\reductions\\solvers\\solving_chain.py:336: FutureWarning: \n",
      "    Your problem is being solved with the ECOS solver by default. Starting in \n",
      "    CVXPY 1.5.0, Clarabel will be used as the default solver instead. To continue \n",
      "    using ECOS, specify the ECOS solver explicitly using the ``solver=cp.ECOS`` \n",
      "    argument to the ``problem.solve`` method.\n",
      "    \n",
      "  warnings.warn(ECOS_DEPRECATION_MSG, FutureWarning)\n",
      "C:\\Users\\Hp\\AppData\\Roaming\\Python\\Python310\\site-packages\\cvxpy\\reductions\\solvers\\solving_chain.py:336: FutureWarning: \n",
      "    Your problem is being solved with the ECOS solver by default. Starting in \n",
      "    CVXPY 1.5.0, Clarabel will be used as the default solver instead. To continue \n",
      "    using ECOS, specify the ECOS solver explicitly using the ``solver=cp.ECOS`` \n",
      "    argument to the ``problem.solve`` method.\n",
      "    \n",
      "  warnings.warn(ECOS_DEPRECATION_MSG, FutureWarning)\n",
      "C:\\Users\\Hp\\AppData\\Roaming\\Python\\Python310\\site-packages\\cvxpy\\reductions\\solvers\\solving_chain.py:336: FutureWarning: \n",
      "    Your problem is being solved with the ECOS solver by default. Starting in \n",
      "    CVXPY 1.5.0, Clarabel will be used as the default solver instead. To continue \n",
      "    using ECOS, specify the ECOS solver explicitly using the ``solver=cp.ECOS`` \n",
      "    argument to the ``problem.solve`` method.\n",
      "    \n",
      "  warnings.warn(ECOS_DEPRECATION_MSG, FutureWarning)\n",
      "C:\\Users\\Hp\\AppData\\Roaming\\Python\\Python310\\site-packages\\cvxpy\\reductions\\solvers\\solving_chain.py:336: FutureWarning: \n",
      "    Your problem is being solved with the ECOS solver by default. Starting in \n",
      "    CVXPY 1.5.0, Clarabel will be used as the default solver instead. To continue \n",
      "    using ECOS, specify the ECOS solver explicitly using the ``solver=cp.ECOS`` \n",
      "    argument to the ``problem.solve`` method.\n",
      "    \n",
      "  warnings.warn(ECOS_DEPRECATION_MSG, FutureWarning)\n",
      "C:\\Users\\Hp\\AppData\\Roaming\\Python\\Python310\\site-packages\\cvxpy\\reductions\\solvers\\solving_chain.py:336: FutureWarning: \n",
      "    Your problem is being solved with the ECOS solver by default. Starting in \n",
      "    CVXPY 1.5.0, Clarabel will be used as the default solver instead. To continue \n",
      "    using ECOS, specify the ECOS solver explicitly using the ``solver=cp.ECOS`` \n",
      "    argument to the ``problem.solve`` method.\n",
      "    \n",
      "  warnings.warn(ECOS_DEPRECATION_MSG, FutureWarning)\n",
      "C:\\Users\\Hp\\AppData\\Roaming\\Python\\Python310\\site-packages\\cvxpy\\reductions\\solvers\\solving_chain.py:336: FutureWarning: \n",
      "    Your problem is being solved with the ECOS solver by default. Starting in \n",
      "    CVXPY 1.5.0, Clarabel will be used as the default solver instead. To continue \n",
      "    using ECOS, specify the ECOS solver explicitly using the ``solver=cp.ECOS`` \n",
      "    argument to the ``problem.solve`` method.\n",
      "    \n",
      "  warnings.warn(ECOS_DEPRECATION_MSG, FutureWarning)\n",
      "C:\\Users\\Hp\\AppData\\Roaming\\Python\\Python310\\site-packages\\cvxpy\\reductions\\solvers\\solving_chain.py:336: FutureWarning: \n",
      "    Your problem is being solved with the ECOS solver by default. Starting in \n",
      "    CVXPY 1.5.0, Clarabel will be used as the default solver instead. To continue \n",
      "    using ECOS, specify the ECOS solver explicitly using the ``solver=cp.ECOS`` \n",
      "    argument to the ``problem.solve`` method.\n",
      "    \n",
      "  warnings.warn(ECOS_DEPRECATION_MSG, FutureWarning)\n",
      "C:\\Users\\Hp\\AppData\\Roaming\\Python\\Python310\\site-packages\\cvxpy\\reductions\\solvers\\solving_chain.py:336: FutureWarning: \n",
      "    Your problem is being solved with the ECOS solver by default. Starting in \n",
      "    CVXPY 1.5.0, Clarabel will be used as the default solver instead. To continue \n",
      "    using ECOS, specify the ECOS solver explicitly using the ``solver=cp.ECOS`` \n",
      "    argument to the ``problem.solve`` method.\n",
      "    \n",
      "  warnings.warn(ECOS_DEPRECATION_MSG, FutureWarning)\n",
      "C:\\Users\\Hp\\AppData\\Roaming\\Python\\Python310\\site-packages\\cvxpy\\reductions\\solvers\\solving_chain.py:336: FutureWarning: \n",
      "    Your problem is being solved with the ECOS solver by default. Starting in \n",
      "    CVXPY 1.5.0, Clarabel will be used as the default solver instead. To continue \n",
      "    using ECOS, specify the ECOS solver explicitly using the ``solver=cp.ECOS`` \n",
      "    argument to the ``problem.solve`` method.\n",
      "    \n",
      "  warnings.warn(ECOS_DEPRECATION_MSG, FutureWarning)\n",
      "C:\\Users\\Hp\\AppData\\Roaming\\Python\\Python310\\site-packages\\cvxpy\\reductions\\solvers\\solving_chain.py:336: FutureWarning: \n",
      "    Your problem is being solved with the ECOS solver by default. Starting in \n",
      "    CVXPY 1.5.0, Clarabel will be used as the default solver instead. To continue \n",
      "    using ECOS, specify the ECOS solver explicitly using the ``solver=cp.ECOS`` \n",
      "    argument to the ``problem.solve`` method.\n",
      "    \n",
      "  warnings.warn(ECOS_DEPRECATION_MSG, FutureWarning)\n",
      "C:\\Users\\Hp\\AppData\\Roaming\\Python\\Python310\\site-packages\\cvxpy\\reductions\\solvers\\solving_chain.py:336: FutureWarning: \n",
      "    Your problem is being solved with the ECOS solver by default. Starting in \n",
      "    CVXPY 1.5.0, Clarabel will be used as the default solver instead. To continue \n",
      "    using ECOS, specify the ECOS solver explicitly using the ``solver=cp.ECOS`` \n",
      "    argument to the ``problem.solve`` method.\n",
      "    \n",
      "  warnings.warn(ECOS_DEPRECATION_MSG, FutureWarning)\n",
      "C:\\Users\\Hp\\AppData\\Roaming\\Python\\Python310\\site-packages\\cvxpy\\reductions\\solvers\\solving_chain.py:336: FutureWarning: \n",
      "    Your problem is being solved with the ECOS solver by default. Starting in \n",
      "    CVXPY 1.5.0, Clarabel will be used as the default solver instead. To continue \n",
      "    using ECOS, specify the ECOS solver explicitly using the ``solver=cp.ECOS`` \n",
      "    argument to the ``problem.solve`` method.\n",
      "    \n",
      "  warnings.warn(ECOS_DEPRECATION_MSG, FutureWarning)\n",
      "C:\\Users\\Hp\\AppData\\Roaming\\Python\\Python310\\site-packages\\cvxpy\\reductions\\solvers\\solving_chain.py:336: FutureWarning: \n",
      "    Your problem is being solved with the ECOS solver by default. Starting in \n",
      "    CVXPY 1.5.0, Clarabel will be used as the default solver instead. To continue \n",
      "    using ECOS, specify the ECOS solver explicitly using the ``solver=cp.ECOS`` \n",
      "    argument to the ``problem.solve`` method.\n",
      "    \n",
      "  warnings.warn(ECOS_DEPRECATION_MSG, FutureWarning)\n",
      "C:\\Users\\Hp\\AppData\\Roaming\\Python\\Python310\\site-packages\\cvxpy\\reductions\\solvers\\solving_chain.py:336: FutureWarning: \n",
      "    Your problem is being solved with the ECOS solver by default. Starting in \n",
      "    CVXPY 1.5.0, Clarabel will be used as the default solver instead. To continue \n",
      "    using ECOS, specify the ECOS solver explicitly using the ``solver=cp.ECOS`` \n",
      "    argument to the ``problem.solve`` method.\n",
      "    \n",
      "  warnings.warn(ECOS_DEPRECATION_MSG, FutureWarning)\n",
      "C:\\Users\\Hp\\AppData\\Roaming\\Python\\Python310\\site-packages\\cvxpy\\reductions\\solvers\\solving_chain.py:336: FutureWarning: \n",
      "    Your problem is being solved with the ECOS solver by default. Starting in \n",
      "    CVXPY 1.5.0, Clarabel will be used as the default solver instead. To continue \n",
      "    using ECOS, specify the ECOS solver explicitly using the ``solver=cp.ECOS`` \n",
      "    argument to the ``problem.solve`` method.\n",
      "    \n",
      "  warnings.warn(ECOS_DEPRECATION_MSG, FutureWarning)\n",
      "C:\\Users\\Hp\\AppData\\Roaming\\Python\\Python310\\site-packages\\cvxpy\\reductions\\solvers\\solving_chain.py:336: FutureWarning: \n",
      "    Your problem is being solved with the ECOS solver by default. Starting in \n",
      "    CVXPY 1.5.0, Clarabel will be used as the default solver instead. To continue \n",
      "    using ECOS, specify the ECOS solver explicitly using the ``solver=cp.ECOS`` \n",
      "    argument to the ``problem.solve`` method.\n",
      "    \n",
      "  warnings.warn(ECOS_DEPRECATION_MSG, FutureWarning)\n"
     ]
    },
    {
     "data": {
      "text/plain": [
       "0.027517668034497893"
      ]
     },
     "execution_count": 77,
     "metadata": {},
     "output_type": "execute_result"
    }
   ],
   "source": [
    "problem.solve(qcp=True)"
   ]
  },
  {
   "cell_type": "code",
   "execution_count": 78,
   "metadata": {},
   "outputs": [
    {
     "name": "stdout",
     "output_type": "stream",
     "text": [
      "Asian_Paints: 0.05205708086358082\n",
      "Bharat_Petroleum: 0.04915047538789527\n",
      "Cipla: 0.05079108474781186\n",
      "Coal_India: 0.047495680709711045\n",
      "Dr_Reddy: 0.05035258162335159\n",
      "HDFC_Bank: 0.05071259025335446\n",
      "Hero_Motocorp: 0.04943107063476567\n",
      "Hindustan_Unilever: 0.05119378398292494\n",
      "Infosys: 0.051706480528764365\n",
      "JSW_Steel: 0.050595283741862805\n",
      "Kotak_Mahindra: 0.05171992341902544\n",
      "Nestle: 0.0520650296271299\n",
      "NTPC: 0.04890289021523939\n",
      "ONGC: 0.04978953011475806\n",
      "PowerGrid_corp: 0.04804609602389359\n",
      "Reliance_Industries: 0.046066364013703606\n",
      "SBI: 0.05046638225345305\n",
      "Tata_Motors: 0.05004605153423594\n",
      "Tata_Steel: 0.05078053673635692\n",
      "Wipro: 0.048631083588181336\n"
     ]
    }
   ],
   "source": [
    "optimized_weights = weights.value\n",
    "final_optimized_weight={}\n",
    "for i, stock in enumerate(volatilities.keys()):\n",
    "    final_optimized_weight[stock]=optimized_weights[i]\n",
    "    print(f\"{stock}: {optimized_weights[i]}\")\n",
    "\n"
   ]
  },
  {
   "cell_type": "code",
   "execution_count": 80,
   "metadata": {},
   "outputs": [
    {
     "name": "stdout",
     "output_type": "stream",
     "text": [
      "Portfolio Composition:\n",
      "Asian_Paints: 5.21%\n",
      "Bharat_Petroleum: 4.92%\n",
      "Cipla: 5.08%\n",
      "Coal_India: 4.75%\n",
      "Dr_Reddy: 5.04%\n",
      "HDFC_Bank: 5.07%\n",
      "Hero_Motocorp: 4.94%\n",
      "Hindustan_Unilever: 5.12%\n",
      "Infosys: 5.17%\n",
      "JSW_Steel: 5.06%\n",
      "Kotak_Mahindra: 5.17%\n",
      "Nestle: 5.21%\n",
      "NTPC: 4.89%\n",
      "ONGC: 4.98%\n",
      "PowerGrid_corp: 4.80%\n",
      "Reliance_Industries: 4.61%\n",
      "SBI: 5.05%\n",
      "Tata_Motors: 5.00%\n",
      "Tata_Steel: 5.08%\n",
      "Wipro: 4.86%\n",
      "\n",
      "Portfolio Risk Contribution:\n",
      "Asian_Paints: 0.06%\n",
      "Bharat_Petroleum: 0.08%\n",
      "Cipla: 0.07%\n",
      "Coal_India: 0.11%\n",
      "Dr_Reddy: 0.07%\n",
      "HDFC_Bank: 0.07%\n",
      "Hero_Motocorp: 0.08%\n",
      "Hindustan_Unilever: 0.06%\n",
      "Infosys: 0.06%\n",
      "JSW_Steel: 0.07%\n",
      "Kotak_Mahindra: 0.06%\n",
      "Nestle: 0.06%\n",
      "NTPC: 0.09%\n",
      "ONGC: 0.08%\n",
      "PowerGrid_corp: 0.10%\n",
      "Reliance_Industries: 0.14%\n",
      "SBI: 0.07%\n",
      "Tata_Motors: 0.07%\n",
      "Tata_Steel: 0.07%\n",
      "Wipro: 0.09%\n",
      "\n",
      "Total Portfolio Risk: 1.53%\n"
     ]
    }
   ],
   "source": [
    "# Calculate portfolio risk contribution\n",
    "portfolio_risk_contribution = {stock: optimized_weights[i] * volatilities[stock] for i, stock in enumerate(volatilities.keys())}\n",
    "\n",
    "# Display portfolio composition\n",
    "print(\"Portfolio Composition:\")\n",
    "for stock, weight in zip(volatilities.keys(), optimized_weights):\n",
    "    print(f\"{stock}: {weight * 100:.2f}%\")\n",
    "\n",
    "# Display portfolio risk contribution\n",
    "print(\"\\nPortfolio Risk Contribution:\")\n",
    "for stock, risk_contribution in portfolio_risk_contribution.items():\n",
    "    print(f\"{stock}: {risk_contribution * 100:.2f}%\")\n",
    "\n",
    "# Calculate and display total portfolio risk\n",
    "portfolio_risk = sum(portfolio_risk_contribution.values())\n",
    "print(f\"\\nTotal Portfolio Risk: {portfolio_risk * 100:.2f}%\")\n"
   ]
  },
  {
   "cell_type": "code",
   "execution_count": 81,
   "metadata": {},
   "outputs": [
    {
     "data": {
      "image/png": "[encoded data removed]",
      "text/plain": [
       "<Figure size 1000x500 with 1 Axes>"
      ]
     },
     "metadata": {},
     "output_type": "display_data"
    },
    {
     "data": {
      "image/png": "[encoded data removed]",
      "text/plain": [
       "<Figure size 1000x500 with 1 Axes>"
      ]
     },
     "metadata": {},
     "output_type": "display_data"
    }
   ],
   "source": [
    "import matplotlib.pyplot as plt\n",
    "\n",
    "# Plotting optimized weights\n",
    "plt.figure(figsize=(10, 5))\n",
    "plt.bar(volatilities.keys(), optimized_weights)\n",
    "plt.title('Optimized Portfolio Weights')\n",
    "plt.xlabel('Stocks')\n",
    "plt.ylabel('Weight')\n",
    "plt.xticks(rotation=90)\n",
    "plt.show()\n",
    "\n",
    "# Plotting portfolio risk contribution\n",
    "plt.figure(figsize=(10, 5))\n",
    "plt.bar(portfolio_risk_contribution.keys(), portfolio_risk_contribution.values())\n",
    "plt.title('Portfolio Risk Contribution')\n",
    "plt.xlabel('Stocks')\n",
    "plt.ylabel('Risk Contribution')\n",
    "plt.xticks(rotation=90)\n",
    "plt.show()\n"
   ]
  },
  {
   "cell_type": "code",
   "execution_count": 82,
   "metadata": {},
   "outputs": [
    {
     "name": "stdout",
     "output_type": "stream",
     "text": [
      "Asian_Paints: 0.050854655340834484\n",
      "Bharat_Petroleum: 0.05135344191872004\n",
      "Cipla: 0.051035263425560036\n",
      "Coal_India: 0.051818495985255314\n",
      "Dr_Reddy: 0.05110963467473383\n",
      "HDFC_Bank: 0.05104807820938487\n",
      "Hero_Motocorp: 0.051290648719360704\n",
      "Hindustan_Unilever: 0.05097270114338476\n",
      "Infosys: 0.05090014702612997\n",
      "JSW_Steel: 0.05106762580831447\n",
      "Kotak_Mahindra: 0.0508983436538533\n",
      "Nestle: 0.0508536601045969\n",
      "NTPC: 0.051412226714493255\n",
      "ONGC: 0.05121589934211982\n",
      "PowerGrid_corp: 0.051643433892472626\n",
      "Reliance_Industries: 0.05240064538521109\n",
      "SBI: 0.051089668716693286\n",
      "Tata_Motors: 0.05116588626125568\n",
      "Tata_Steel: 0.05103697328498662\n",
      "Wipro: 0.051480683626317546\n"
     ]
    }
   ],
   "source": [
    "# Assuming a risk-free rate\n",
    "risk_free_rate = 0.05  # 5% annual risk-free rate\n",
    "\n",
    "# Assuming a market risk premium\n",
    "market_risk_premium = 0.08  # 8% annual market risk premium\n",
    "\n",
    "# Calculating expected returns using CAPM\n",
    "expected_returns = {}\n",
    "for stock, volatility in volatilities.items():\n",
    "    beta = 1.0  # Assuming beta of 1 for simplicity\n",
    "    expected_return = risk_free_rate + beta * market_risk_premium * volatility\n",
    "    expected_returns[stock] = expected_return\n",
    "\n",
    "# Display expected returns\n",
    "for stock, expected_return in expected_returns.items():\n",
    "    print(f\"{stock}: {expected_return}\")\n"
   ]
  },
  {
   "cell_type": "code",
   "execution_count": 88,
   "metadata": {},
   "outputs": [
    {
     "data": {
      "image/png": "[encoded data removed]",
      "text/plain": [
       "<Figure size 1000x600 with 1 Axes>"
      ]
     },
     "metadata": {},
     "output_type": "display_data"
    }
   ],
   "source": [
    "plt.figure(figsize=(10, 6))\n",
    "plt.bar(expected_returns.keys(), expected_returns.values())\n",
    "plt.xlabel('Stocks')\n",
    "plt.ylabel('Expected Returns')\n",
    "plt.title('Expected Returns for Stocks')\n",
    "plt.xticks(rotation=90)\n",
    "plt.tight_layout()\n",
    "plt.show()"
   ]
  },
  {
   "cell_type": "code",
   "execution_count": 32,
   "metadata": {},
   "outputs": [
    {
     "name": "stdout",
     "output_type": "stream",
     "text": [
      "Portfolio Expected Return: 0.05122120809628885\n",
      "Portfolio Volatility: 0.01\n",
      "Sharpe Ratio: 0.12212080962888464\n"
     ]
    }
   ],
   "source": [
    "risk_free_rate = 0.05  # 5% annual risk-free rate\n",
    "\n",
    "# Calculate portfolio expected return\n",
    "portfolio_expected_return = sum(final_optimized_weight[stock] * expected_returns[stock] for stock in final_optimized_weight)\n",
    "\n",
    "# Calculate portfolio volatility (standard deviation)\n",
    "# Assuming you have calculated portfolio volatility using covariance matrix or GARCH model\n",
    "portfolio_volatility =0.01# Replace with actual portfolio volatility\n",
    "\n",
    "# Calculate Sharpe ratio\n",
    "sharpe_ratio = (portfolio_expected_return - risk_free_rate) / portfolio_volatility\n",
    "\n",
    "print(\"Portfolio Expected Return:\", portfolio_expected_return)\n",
    "print(\"Portfolio Volatility:\", portfolio_volatility)\n",
    "print(\"Sharpe Ratio:\", sharpe_ratio)"
   ]
  },
  {
   "cell_type": "code",
   "execution_count": 109,
   "metadata": {},
   "outputs": [
    {
     "name": "stdout",
     "output_type": "stream",
     "text": [
      "dict_values([0.05205708086358082, 0.04915047538789527, 0.05079108474781186, 0.047495680709711045, 0.05035258162335159, 0.05071259025335446, 0.04943107063476567, 0.05119378398292494, 0.051706480528764365, 0.050595283741862805, 0.05171992341902544, 0.0520650296271299, 0.04890289021523939, 0.04978953011475806, 0.04804609602389359, 0.046066364013703606, 0.05046638225345305, 0.05004605153423594, 0.05078053673635692, 0.048631083588181336])\n",
      "[0.05205708 0.04915048 0.05079108 0.04749568 0.05035258 0.05071259\n",
      " 0.04943107 0.05119378 0.05170648 0.05059528 0.05171992 0.05206503\n",
      " 0.04890289 0.04978953 0.0480461  0.04606636 0.05046638 0.05004605\n",
      " 0.05078054 0.04863108]\n",
      "<class 'numpy.ndarray'>\n"
     ]
    },
    {
     "ename": "AttributeError",
     "evalue": "'numpy.ndarray' object has no attribute 'corr'",
     "output_type": "error",
     "traceback": [
      "\u001b[1;31m---------------------------------------------------------------------------\u001b[0m",
      "\u001b[1;31mAttributeError\u001b[0m                            Traceback (most recent call last)",
      "Cell \u001b[1;32mIn[109], line 28\u001b[0m\n\u001b[0;32m     24\u001b[0m \u001b[38;5;28mprint\u001b[39m(\u001b[38;5;28mtype\u001b[39m(my_array))\n\u001b[0;32m     26\u001b[0m my_array\u001b[38;5;241m=\u001b[39mmy_array\u001b[38;5;241m.\u001b[39mT\n\u001b[1;32m---> 28\u001b[0m corr_matrix \u001b[38;5;241m=\u001b[39m \u001b[43mmy_array\u001b[49m\u001b[38;5;241;43m.\u001b[39;49m\u001b[43mcorr\u001b[49m()\n\u001b[0;32m     29\u001b[0m \u001b[38;5;28mprint\u001b[39m(corr_matrix)\n\u001b[0;32m     31\u001b[0m \u001b[38;5;66;03m# Plot the correlation matrix\u001b[39;00m\n\u001b[0;32m     32\u001b[0m \u001b[38;5;66;03m# Plot the heatmap using seaborn\u001b[39;00m\n\u001b[0;32m     33\u001b[0m \u001b[38;5;66;03m# plt.figure(figsize=(8, 6))\u001b[39;00m\n\u001b[0;32m     34\u001b[0m \u001b[38;5;66;03m# sns.heatmap(corr_matrix, annot=True, cmap=\"coolwarm\", xticklabels=range(1, 20 + 1), yticklabels=range(1, 20 + 1))\u001b[39;00m\n\u001b[0;32m     35\u001b[0m \u001b[38;5;66;03m# plt.title(\"Correlation Matrix Heatmap\")\u001b[39;00m\n\u001b[0;32m     36\u001b[0m \u001b[38;5;66;03m# plt.show()\u001b[39;00m\n",
      "\u001b[1;31mAttributeError\u001b[0m: 'numpy.ndarray' object has no attribute 'corr'"
     ]
    }
   ],
   "source": [
    "import pandas as pd\n",
    "import seaborn as sns\n",
    "import matplotlib.pyplot as plt\n",
    "\n",
    "\n",
    "\n",
    "# Convert the dictionary to a DataFrame\n",
    "# df=np.array(final_optimized_weight.values())\n",
    "# # correlation_matrix = np.corrcoef(final_optimized_weight.values())\n",
    "\n",
    "# # Calculate the correlation matrix\n",
    "# corr_matrix = np.corrcoef(df)\n",
    "\n",
    "# # Plot the correlation matrix\n",
    "# # Plot the heatmap using seaborn\n",
    "# plt.figure(figsize=(8, 6))\n",
    "# sns.heatmap(corr_matrix, annot=True, cmap=\"coolwarm\", fmt=\".2f\", xticklabels=range(1, 10 + 1), yticklabels=range(1, 10 + 1))\n",
    "# plt.title(\"Correlation Matrix Heatmap\")\n",
    "# plt.show()\n",
    "\n",
    "print(final_optimized_weight.values())\n",
    "my_array = np.array(list(final_optimized_weight.values()))\n",
    "print(my_array)\n",
    "print(type(my_array))\n",
    "\n",
    "my_array=my_array.T\n",
    "\n",
    "corr_matrix = my_array.corr()\n",
    "print(corr_matrix)\n",
    "\n",
    "# Plot the correlation matrix\n",
    "# Plot the heatmap using seaborn\n",
    "# plt.figure(figsize=(8, 6))\n",
    "# sns.heatmap(corr_matrix, annot=True, cmap=\"coolwarm\", xticklabels=range(1, 20 + 1), yticklabels=range(1, 20 + 1))\n",
    "# plt.title(\"Correlation Matrix Heatmap\")\n",
    "# plt.show()\n"
   ]
  }
 ],
 "metadata": {
  "kernelspec": {
   "display_name": "Python 3 (ipykernel)",
   "language": "python",
   "name": "python3"
  },
  "language_info": {
   "codemirror_mode": {
    "name": "ipython",
    "version": 3
   },
   "file_extension": ".py",
   "mimetype": "text/x-python",
   "name": "python",
   "nbconvert_exporter": "python",
   "pygments_lexer": "ipython3",
   "version": "3.10.6"
  }
 },
 "nbformat": 4,
 "nbformat_minor": 2
}
