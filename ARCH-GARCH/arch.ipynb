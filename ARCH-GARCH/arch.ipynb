{
 "cells": [
  {
   "cell_type": "code",
   "execution_count": 1,
   "metadata": {},
   "outputs": [
    {
     "data": {
      "text/html": [
       "<div>\n",
       "<style scoped>\n",
       "    .dataframe tbody tr th:only-of-type {\n",
       "        vertical-align: middle;\n",
       "    }\n",
       "\n",
       "    .dataframe tbody tr th {\n",
       "        vertical-align: top;\n",
       "    }\n",
       "\n",
       "    .dataframe thead th {\n",
       "        text-align: right;\n",
       "    }\n",
       "</style>\n",
       "<table border=\"1\" class=\"dataframe\">\n",
       "  <thead>\n",
       "    <tr style=\"text-align: right;\">\n",
       "      <th></th>\n",
       "      <th>Date</th>\n",
       "      <th>Open</th>\n",
       "      <th>High</th>\n",
       "      <th>Low</th>\n",
       "      <th>Close</th>\n",
       "      <th>Adj Close</th>\n",
       "      <th>Volume</th>\n",
       "    </tr>\n",
       "  </thead>\n",
       "  <tbody>\n",
       "    <tr>\n",
       "      <th>0</th>\n",
       "      <td>2023-01-02</td>\n",
       "      <td>2353.649170</td>\n",
       "      <td>2380.416260</td>\n",
       "      <td>2351.987793</td>\n",
       "      <td>2377.554932</td>\n",
       "      <td>2369.185791</td>\n",
       "      <td>2658087</td>\n",
       "    </tr>\n",
       "    <tr>\n",
       "      <th>1</th>\n",
       "      <td>2023-01-03</td>\n",
       "      <td>2367.540283</td>\n",
       "      <td>2374.878174</td>\n",
       "      <td>2351.618652</td>\n",
       "      <td>2360.156250</td>\n",
       "      <td>2351.848389</td>\n",
       "      <td>3829466</td>\n",
       "    </tr>\n",
       "    <tr>\n",
       "      <th>2</th>\n",
       "      <td>2023-01-04</td>\n",
       "      <td>2360.110107</td>\n",
       "      <td>2363.848389</td>\n",
       "      <td>2320.421143</td>\n",
       "      <td>2324.620850</td>\n",
       "      <td>2316.438232</td>\n",
       "      <td>4632445</td>\n",
       "    </tr>\n",
       "    <tr>\n",
       "      <th>3</th>\n",
       "      <td>2023-01-05</td>\n",
       "      <td>2329.189697</td>\n",
       "      <td>2341.096436</td>\n",
       "      <td>2311.191162</td>\n",
       "      <td>2320.467285</td>\n",
       "      <td>2312.299316</td>\n",
       "      <td>6818549</td>\n",
       "    </tr>\n",
       "    <tr>\n",
       "      <th>4</th>\n",
       "      <td>2023-01-06</td>\n",
       "      <td>2332.097168</td>\n",
       "      <td>2351.757080</td>\n",
       "      <td>2324.390137</td>\n",
       "      <td>2341.557861</td>\n",
       "      <td>2333.315430</td>\n",
       "      <td>3174798</td>\n",
       "    </tr>\n",
       "    <tr>\n",
       "      <th>...</th>\n",
       "      <td>...</td>\n",
       "      <td>...</td>\n",
       "      <td>...</td>\n",
       "      <td>...</td>\n",
       "      <td>...</td>\n",
       "      <td>...</td>\n",
       "      <td>...</td>\n",
       "    </tr>\n",
       "    <tr>\n",
       "      <th>260</th>\n",
       "      <td>2024-01-23</td>\n",
       "      <td>2743.500000</td>\n",
       "      <td>2743.500000</td>\n",
       "      <td>2645.100098</td>\n",
       "      <td>2657.149902</td>\n",
       "      <td>2657.149902</td>\n",
       "      <td>10027710</td>\n",
       "    </tr>\n",
       "    <tr>\n",
       "      <th>261</th>\n",
       "      <td>2024-01-24</td>\n",
       "      <td>2670.449951</td>\n",
       "      <td>2699.000000</td>\n",
       "      <td>2647.850098</td>\n",
       "      <td>2687.750000</td>\n",
       "      <td>2687.750000</td>\n",
       "      <td>10959564</td>\n",
       "    </tr>\n",
       "    <tr>\n",
       "      <th>262</th>\n",
       "      <td>2024-01-25</td>\n",
       "      <td>2685.899902</td>\n",
       "      <td>2728.300049</td>\n",
       "      <td>2670.399902</td>\n",
       "      <td>2706.149902</td>\n",
       "      <td>2706.149902</td>\n",
       "      <td>5904436</td>\n",
       "    </tr>\n",
       "    <tr>\n",
       "      <th>263</th>\n",
       "      <td>2024-01-29</td>\n",
       "      <td>2729.000000</td>\n",
       "      <td>2905.000000</td>\n",
       "      <td>2720.350098</td>\n",
       "      <td>2896.100098</td>\n",
       "      <td>2896.100098</td>\n",
       "      <td>11946719</td>\n",
       "    </tr>\n",
       "    <tr>\n",
       "      <th>264</th>\n",
       "      <td>2024-01-30</td>\n",
       "      <td>2919.899902</td>\n",
       "      <td>2919.949951</td>\n",
       "      <td>2808.850098</td>\n",
       "      <td>2815.250000</td>\n",
       "      <td>2815.250000</td>\n",
       "      <td>7046989</td>\n",
       "    </tr>\n",
       "  </tbody>\n",
       "</table>\n",
       "<p>265 rows × 7 columns</p>\n",
       "</div>"
      ],
      "text/plain": [
       "           Date         Open         High          Low        Close  \\\n",
       "0    2023-01-02  2353.649170  2380.416260  2351.987793  2377.554932   \n",
       "1    2023-01-03  2367.540283  2374.878174  2351.618652  2360.156250   \n",
       "2    2023-01-04  2360.110107  2363.848389  2320.421143  2324.620850   \n",
       "3    2023-01-05  2329.189697  2341.096436  2311.191162  2320.467285   \n",
       "4    2023-01-06  2332.097168  2351.757080  2324.390137  2341.557861   \n",
       "..          ...          ...          ...          ...          ...   \n",
       "260  2024-01-23  2743.500000  2743.500000  2645.100098  2657.149902   \n",
       "261  2024-01-24  2670.449951  2699.000000  2647.850098  2687.750000   \n",
       "262  2024-01-25  2685.899902  2728.300049  2670.399902  2706.149902   \n",
       "263  2024-01-29  2729.000000  2905.000000  2720.350098  2896.100098   \n",
       "264  2024-01-30  2919.899902  2919.949951  2808.850098  2815.250000   \n",
       "\n",
       "       Adj Close    Volume  \n",
       "0    2369.185791   2658087  \n",
       "1    2351.848389   3829466  \n",
       "2    2316.438232   4632445  \n",
       "3    2312.299316   6818549  \n",
       "4    2333.315430   3174798  \n",
       "..           ...       ...  \n",
       "260  2657.149902  10027710  \n",
       "261  2687.750000  10959564  \n",
       "262  2706.149902   5904436  \n",
       "263  2896.100098  11946719  \n",
       "264  2815.250000   7046989  \n",
       "\n",
       "[265 rows x 7 columns]"
      ]
     },
     "execution_count": 1,
     "metadata": {},
     "output_type": "execute_result"
    }
   ],
   "source": [
    "import pandas as pd\n",
    "import numpy as np\n",
    "import matplotlib.pyplot as plt\n",
    "\n",
    "df=pd.read_csv(\"../ArchGarchDatasets/RelianceIndustries.csv\")\n",
    "df"
   ]
  },
  {
   "cell_type": "code",
   "execution_count": 2,
   "metadata": {},
   "outputs": [
    {
     "name": "stdout",
     "output_type": "stream",
     "text": [
      "Date         0\n",
      "Open         0\n",
      "High         0\n",
      "Low          0\n",
      "Close        0\n",
      "Adj Close    0\n",
      "Volume       0\n",
      "dtype: int64\n"
     ]
    }
   ],
   "source": [
    "print(df.isnull().sum())"
   ]
  },
  {
   "cell_type": "code",
   "execution_count": 3,
   "metadata": {},
   "outputs": [
    {
     "data": {
      "text/plain": [
       "[<matplotlib.lines.Line2D at 0x154616c6bb0>]"
      ]
     },
     "execution_count": 3,
     "metadata": {},
     "output_type": "execute_result"
    },
    {
     "data": {
      "image/png": "[encoded data removed]",
      "text/plain": [
       "<Figure size 432x288 with 1 Axes>"
      ]
     },
     "metadata": {
      "needs_background": "light"
     },
     "output_type": "display_data"
    }
   ],
   "source": [
    "plt.plot(df['Close'])\n"
   ]
  },
  {
   "cell_type": "code",
   "execution_count": 4,
   "metadata": {},
   "outputs": [
    {
     "data": {
      "text/html": [
       "<div>\n",
       "<style scoped>\n",
       "    .dataframe tbody tr th:only-of-type {\n",
       "        vertical-align: middle;\n",
       "    }\n",
       "\n",
       "    .dataframe tbody tr th {\n",
       "        vertical-align: top;\n",
       "    }\n",
       "\n",
       "    .dataframe thead th {\n",
       "        text-align: right;\n",
       "    }\n",
       "</style>\n",
       "<table border=\"1\" class=\"dataframe\">\n",
       "  <thead>\n",
       "    <tr style=\"text-align: right;\">\n",
       "      <th></th>\n",
       "      <th>Date</th>\n",
       "      <th>Open</th>\n",
       "      <th>High</th>\n",
       "      <th>Low</th>\n",
       "      <th>Close</th>\n",
       "      <th>Adj Close</th>\n",
       "      <th>Volume</th>\n",
       "      <th>Daily_Returns</th>\n",
       "    </tr>\n",
       "  </thead>\n",
       "  <tbody>\n",
       "    <tr>\n",
       "      <th>0</th>\n",
       "      <td>2023-01-02</td>\n",
       "      <td>2353.649170</td>\n",
       "      <td>2380.416260</td>\n",
       "      <td>2351.987793</td>\n",
       "      <td>2377.554932</td>\n",
       "      <td>2369.185791</td>\n",
       "      <td>2658087</td>\n",
       "      <td>NaN</td>\n",
       "    </tr>\n",
       "    <tr>\n",
       "      <th>1</th>\n",
       "      <td>2023-01-03</td>\n",
       "      <td>2367.540283</td>\n",
       "      <td>2374.878174</td>\n",
       "      <td>2351.618652</td>\n",
       "      <td>2360.156250</td>\n",
       "      <td>2351.848389</td>\n",
       "      <td>3829466</td>\n",
       "      <td>-0.007318</td>\n",
       "    </tr>\n",
       "    <tr>\n",
       "      <th>2</th>\n",
       "      <td>2023-01-04</td>\n",
       "      <td>2360.110107</td>\n",
       "      <td>2363.848389</td>\n",
       "      <td>2320.421143</td>\n",
       "      <td>2324.620850</td>\n",
       "      <td>2316.438232</td>\n",
       "      <td>4632445</td>\n",
       "      <td>-0.015056</td>\n",
       "    </tr>\n",
       "    <tr>\n",
       "      <th>3</th>\n",
       "      <td>2023-01-05</td>\n",
       "      <td>2329.189697</td>\n",
       "      <td>2341.096436</td>\n",
       "      <td>2311.191162</td>\n",
       "      <td>2320.467285</td>\n",
       "      <td>2312.299316</td>\n",
       "      <td>6818549</td>\n",
       "      <td>-0.001787</td>\n",
       "    </tr>\n",
       "    <tr>\n",
       "      <th>4</th>\n",
       "      <td>2023-01-06</td>\n",
       "      <td>2332.097168</td>\n",
       "      <td>2351.757080</td>\n",
       "      <td>2324.390137</td>\n",
       "      <td>2341.557861</td>\n",
       "      <td>2333.315430</td>\n",
       "      <td>3174798</td>\n",
       "      <td>0.009089</td>\n",
       "    </tr>\n",
       "    <tr>\n",
       "      <th>...</th>\n",
       "      <td>...</td>\n",
       "      <td>...</td>\n",
       "      <td>...</td>\n",
       "      <td>...</td>\n",
       "      <td>...</td>\n",
       "      <td>...</td>\n",
       "      <td>...</td>\n",
       "      <td>...</td>\n",
       "    </tr>\n",
       "    <tr>\n",
       "      <th>260</th>\n",
       "      <td>2024-01-23</td>\n",
       "      <td>2743.500000</td>\n",
       "      <td>2743.500000</td>\n",
       "      <td>2645.100098</td>\n",
       "      <td>2657.149902</td>\n",
       "      <td>2657.149902</td>\n",
       "      <td>10027710</td>\n",
       "      <td>-0.028429</td>\n",
       "    </tr>\n",
       "    <tr>\n",
       "      <th>261</th>\n",
       "      <td>2024-01-24</td>\n",
       "      <td>2670.449951</td>\n",
       "      <td>2699.000000</td>\n",
       "      <td>2647.850098</td>\n",
       "      <td>2687.750000</td>\n",
       "      <td>2687.750000</td>\n",
       "      <td>10959564</td>\n",
       "      <td>0.011516</td>\n",
       "    </tr>\n",
       "    <tr>\n",
       "      <th>262</th>\n",
       "      <td>2024-01-25</td>\n",
       "      <td>2685.899902</td>\n",
       "      <td>2728.300049</td>\n",
       "      <td>2670.399902</td>\n",
       "      <td>2706.149902</td>\n",
       "      <td>2706.149902</td>\n",
       "      <td>5904436</td>\n",
       "      <td>0.006846</td>\n",
       "    </tr>\n",
       "    <tr>\n",
       "      <th>263</th>\n",
       "      <td>2024-01-29</td>\n",
       "      <td>2729.000000</td>\n",
       "      <td>2905.000000</td>\n",
       "      <td>2720.350098</td>\n",
       "      <td>2896.100098</td>\n",
       "      <td>2896.100098</td>\n",
       "      <td>11946719</td>\n",
       "      <td>0.070192</td>\n",
       "    </tr>\n",
       "    <tr>\n",
       "      <th>264</th>\n",
       "      <td>2024-01-30</td>\n",
       "      <td>2919.899902</td>\n",
       "      <td>2919.949951</td>\n",
       "      <td>2808.850098</td>\n",
       "      <td>2815.250000</td>\n",
       "      <td>2815.250000</td>\n",
       "      <td>7046989</td>\n",
       "      <td>-0.027917</td>\n",
       "    </tr>\n",
       "  </tbody>\n",
       "</table>\n",
       "<p>265 rows × 8 columns</p>\n",
       "</div>"
      ],
      "text/plain": [
       "           Date         Open         High          Low        Close  \\\n",
       "0    2023-01-02  2353.649170  2380.416260  2351.987793  2377.554932   \n",
       "1    2023-01-03  2367.540283  2374.878174  2351.618652  2360.156250   \n",
       "2    2023-01-04  2360.110107  2363.848389  2320.421143  2324.620850   \n",
       "3    2023-01-05  2329.189697  2341.096436  2311.191162  2320.467285   \n",
       "4    2023-01-06  2332.097168  2351.757080  2324.390137  2341.557861   \n",
       "..          ...          ...          ...          ...          ...   \n",
       "260  2024-01-23  2743.500000  2743.500000  2645.100098  2657.149902   \n",
       "261  2024-01-24  2670.449951  2699.000000  2647.850098  2687.750000   \n",
       "262  2024-01-25  2685.899902  2728.300049  2670.399902  2706.149902   \n",
       "263  2024-01-29  2729.000000  2905.000000  2720.350098  2896.100098   \n",
       "264  2024-01-30  2919.899902  2919.949951  2808.850098  2815.250000   \n",
       "\n",
       "       Adj Close    Volume  Daily_Returns  \n",
       "0    2369.185791   2658087            NaN  \n",
       "1    2351.848389   3829466      -0.007318  \n",
       "2    2316.438232   4632445      -0.015056  \n",
       "3    2312.299316   6818549      -0.001787  \n",
       "4    2333.315430   3174798       0.009089  \n",
       "..           ...       ...            ...  \n",
       "260  2657.149902  10027710      -0.028429  \n",
       "261  2687.750000  10959564       0.011516  \n",
       "262  2706.149902   5904436       0.006846  \n",
       "263  2896.100098  11946719       0.070192  \n",
       "264  2815.250000   7046989      -0.027917  \n",
       "\n",
       "[265 rows x 8 columns]"
      ]
     },
     "execution_count": 4,
     "metadata": {},
     "output_type": "execute_result"
    }
   ],
   "source": [
    "returns =df['Close'].pct_change().dropna()\n",
    "\n",
    "df['Daily_Returns'] = df['Close'].pct_change()\n",
    "df\n"
   ]
  },
  {
   "cell_type": "markdown",
   "metadata": {},
   "source": [
    "# Actual volatality computation"
   ]
  },
  {
   "cell_type": "code",
   "execution_count": 6,
   "metadata": {},
   "outputs": [
    {
     "name": "stdout",
     "output_type": "stream",
     "text": [
      "20     0.191720\n",
      "21     0.191113\n",
      "22     0.184537\n",
      "23     0.184455\n",
      "24     0.183570\n",
      "         ...   \n",
      "260    0.205324\n",
      "261    0.208579\n",
      "262    0.209640\n",
      "263    0.324607\n",
      "264    0.338234\n",
      "Name: Daily_Returns, Length: 245, dtype: float64\n"
     ]
    }
   ],
   "source": [
    "import pandas as pd\n",
    "\n",
    "# Assuming 'df' is your DataFrame with a column 'returns'\n",
    "returns = df['Daily_Returns']\n",
    "\n",
    "# Calculate the squared returns\n",
    "squared_returns = returns ** 2\n",
    "\n",
    "# Calculate the actual volatility (e.g., the rolling standard deviation of squared returns)\n",
    "actual_volatility = squared_returns.rolling(window=20).mean().apply(lambda x: (x * 252) ** 0.5)\n",
    "\n",
    "# Alternatively, you can use pandas' rolling standard deviation directly\n",
    "# actual_volatility = returns.rolling(window=window_size).std()\n",
    "\n",
    "# Drop NaN values resulting from the rolling calculation\n",
    "actual_volatility = actual_volatility.dropna()\n",
    "\n",
    "# Print or use the calculated actual volatility\n",
    "print(actual_volatility)\n"
   ]
  },
  {
   "cell_type": "code",
   "execution_count": 7,
   "metadata": {},
   "outputs": [
    {
     "name": "stdout",
     "output_type": "stream",
     "text": [
      "Date             0\n",
      "Open             0\n",
      "High             0\n",
      "Low              0\n",
      "Close            0\n",
      "Adj Close        0\n",
      "Volume           0\n",
      "Daily_Returns    1\n",
      "dtype: int64\n"
     ]
    }
   ],
   "source": [
    "print(df.isnull().sum())"
   ]
  },
  {
   "cell_type": "code",
   "execution_count": 8,
   "metadata": {},
   "outputs": [
    {
     "data": {
      "text/plain": [
       "1     -0.007318\n",
       "2     -0.015056\n",
       "3     -0.001787\n",
       "4      0.009089\n",
       "5      0.023611\n",
       "         ...   \n",
       "260   -0.028429\n",
       "261    0.011516\n",
       "262    0.006846\n",
       "263    0.070192\n",
       "264   -0.027917\n",
       "Name: Daily_Returns, Length: 264, dtype: float64"
      ]
     },
     "execution_count": 8,
     "metadata": {},
     "output_type": "execute_result"
    }
   ],
   "source": [
    "df.dropna(inplace=True)\n",
    "returns.dropna(inplace=True)\n",
    "df\n",
    "returns\n"
   ]
  },
  {
   "cell_type": "code",
   "execution_count": 9,
   "metadata": {},
   "outputs": [
    {
     "name": "stdout",
     "output_type": "stream",
     "text": [
      "Requirement already satisfied: arch in d:\\programs\\anaconda3\\anaconda\\lib\\site-packages (6.3.0)\n",
      "Requirement already satisfied: scipy>=1.5 in d:\\programs\\anaconda3\\anaconda\\lib\\site-packages (from arch) (1.7.1)\n",
      "Requirement already satisfied: numpy>=1.19 in d:\\programs\\anaconda3\\anaconda\\lib\\site-packages (from arch) (1.20.3)\n",
      "Requirement already satisfied: statsmodels>=0.12 in d:\\programs\\anaconda3\\anaconda\\lib\\site-packages (from arch) (0.12.2)\n",
      "Requirement already satisfied: pandas>=1.1 in d:\\programs\\anaconda3\\anaconda\\lib\\site-packages (from arch) (1.3.4)\n",
      "Requirement already satisfied: pytz>=2017.3 in d:\\programs\\anaconda3\\anaconda\\lib\\site-packages (from pandas>=1.1->arch) (2021.3)\n",
      "Requirement already satisfied: python-dateutil>=2.7.3 in d:\\programs\\anaconda3\\anaconda\\lib\\site-packages (from pandas>=1.1->arch) (2.8.2)\n",
      "Requirement already satisfied: six>=1.5 in d:\\programs\\anaconda3\\anaconda\\lib\\site-packages (from python-dateutil>=2.7.3->pandas>=1.1->arch) (1.16.0)\n",
      "Requirement already satisfied: patsy>=0.5 in d:\\programs\\anaconda3\\anaconda\\lib\\site-packages (from statsmodels>=0.12->arch) (0.5.2)\n",
      "Note: you may need to restart the kernel to use updated packages.\n"
     ]
    }
   ],
   "source": [
    "pip install arch"
   ]
  },
  {
   "cell_type": "code",
   "execution_count": 10,
   "metadata": {},
   "outputs": [],
   "source": [
    "from arch import arch_model\n"
   ]
  },
  {
   "cell_type": "code",
   "execution_count": 11,
   "metadata": {},
   "outputs": [
    {
     "name": "stderr",
     "output_type": "stream",
     "text": [
      "D:\\Programs\\anaconda3\\Anaconda\\lib\\site-packages\\arch\\univariate\\base.py:311: DataScaleWarning: y is poorly scaled, which may affect convergence of the optimizer when\n",
      "estimating the model parameters. The scale of y is 0.0001452. Parameter\n",
      "estimation work better when this value is between 1 and 1000. The recommended\n",
      "rescaling is 100 * y.\n",
      "\n",
      "This warning can be disabled by either rescaling y before initializing the\n",
      "model or by setting rescale=False.\n",
      "\n",
      "  warnings.warn(\n"
     ]
    },
    {
     "name": "stdout",
     "output_type": "stream",
     "text": [
      "Iteration:      1,   Func. Count:      6,   Neg. LLF: 152706044504.90222\n",
      "Iteration:      2,   Func. Count:     18,   Neg. LLF: 339162608.8092176\n",
      "Optimization terminated successfully    (Exit mode 0)\n",
      "            Current function value: -798.6483135274151\n",
      "            Iterations: 2\n",
      "            Function evaluations: 27\n",
      "            Gradient evaluations: 2\n",
      "                     Constant Mean - GARCH Model Results                      \n",
      "==============================================================================\n",
      "Dep. Variable:          Daily_Returns   R-squared:                       0.000\n",
      "Mean Model:             Constant Mean   Adj. R-squared:                  0.000\n",
      "Vol Model:                      GARCH   Log-Likelihood:                798.648\n",
      "Distribution:                  Normal   AIC:                          -1589.30\n",
      "Method:            Maximum Likelihood   BIC:                          -1574.99\n",
      "                                        No. Observations:                  264\n",
      "Date:                Sat, Mar 02 2024   Df Residuals:                      263\n",
      "Time:                        13:51:04   Df Model:                            1\n",
      "                                  Mean Model                                 \n",
      "=============================================================================\n",
      "                 coef    std err          t      P>|t|       95.0% Conf. Int.\n",
      "-----------------------------------------------------------------------------\n",
      "mu         9.0749e-04  7.407e-04      1.225      0.221 [-5.443e-04,2.359e-03]\n",
      "                              Volatility Model                              \n",
      "============================================================================\n",
      "                 coef    std err          t      P>|t|      95.0% Conf. Int.\n",
      "----------------------------------------------------------------------------\n",
      "omega      1.4520e-05  1.253e-11  1.159e+06      0.000 [1.452e-05,1.452e-05]\n",
      "alpha[1]       0.1000  4.552e-02      2.197  2.804e-02   [1.078e-02,  0.189]\n",
      "beta[1]        0.8000  3.122e-02     25.627 7.611e-145     [  0.739,  0.861]\n",
      "============================================================================\n",
      "\n",
      "Covariance estimator: robust\n"
     ]
    }
   ],
   "source": [
    "garch_model = arch_model(df['Daily_Returns'], vol='GARCH', p=1, q=1)\n",
    "garch_results = garch_model.fit()\n",
    "\n",
    "print(garch_results)\n",
    "\n"
   ]
  },
  {
   "cell_type": "code",
   "execution_count": 12,
   "metadata": {},
   "outputs": [],
   "source": [
    "forecast = garch_results.forecast(horizon=1)\n",
    "\n",
    "\n"
   ]
  },
  {
   "cell_type": "code",
   "execution_count": 13,
   "metadata": {},
   "outputs": [
    {
     "name": "stdout",
     "output_type": "stream",
     "text": [
      "GARCH(1,1) Model Parameters:\n",
      "mu          0.000907\n",
      "omega       0.000015\n",
      "alpha[1]    0.100000\n",
      "beta[1]     0.800000\n",
      "Name: params, dtype: float64\n",
      "\n",
      "Forecasted Conditional Variance for the next 1 day:\n",
      "h.1    0.000605\n",
      "Name: 264, dtype: float64\n"
     ]
    }
   ],
   "source": [
    "print(\"GARCH(1,1) Model Parameters:\")\n",
    "print(garch_results.params)\n",
    "\n",
    "print(\"\\nForecasted Conditional Variance for the next 1 day:\")\n",
    "print(forecast.variance.iloc[-1])"
   ]
  },
  {
   "cell_type": "code",
   "execution_count": 14,
   "metadata": {},
   "outputs": [
    {
     "name": "stderr",
     "output_type": "stream",
     "text": [
      "D:\\Programs\\anaconda3\\Anaconda\\lib\\site-packages\\arch\\univariate\\base.py:311: DataScaleWarning: y is poorly scaled, which may affect convergence of the optimizer when\n",
      "estimating the model parameters. The scale of y is 0.0001452. Parameter\n",
      "estimation work better when this value is between 1 and 1000. The recommended\n",
      "rescaling is 100 * y.\n",
      "\n",
      "This warning can be disabled by either rescaling y before initializing the\n",
      "model or by setting rescale=False.\n",
      "\n",
      "  warnings.warn(\n",
      "D:\\Programs\\anaconda3\\Anaconda\\lib\\site-packages\\arch\\univariate\\base.py:311: DataScaleWarning: y is poorly scaled, which may affect convergence of the optimizer when\n",
      "estimating the model parameters. The scale of y is 0.0001452. Parameter\n",
      "estimation work better when this value is between 1 and 1000. The recommended\n",
      "rescaling is 100 * y.\n",
      "\n",
      "This warning can be disabled by either rescaling y before initializing the\n",
      "model or by setting rescale=False.\n",
      "\n",
      "  warnings.warn(\n",
      "D:\\Programs\\anaconda3\\Anaconda\\lib\\site-packages\\arch\\univariate\\base.py:311: DataScaleWarning: y is poorly scaled, which may affect convergence of the optimizer when\n",
      "estimating the model parameters. The scale of y is 0.0001452. Parameter\n",
      "estimation work better when this value is between 1 and 1000. The recommended\n",
      "rescaling is 100 * y.\n",
      "\n",
      "This warning can be disabled by either rescaling y before initializing the\n",
      "model or by setting rescale=False.\n",
      "\n",
      "  warnings.warn(\n",
      "D:\\Programs\\anaconda3\\Anaconda\\lib\\site-packages\\arch\\univariate\\base.py:311: DataScaleWarning: y is poorly scaled, which may affect convergence of the optimizer when\n",
      "estimating the model parameters. The scale of y is 0.0001452. Parameter\n",
      "estimation work better when this value is between 1 and 1000. The recommended\n",
      "rescaling is 100 * y.\n",
      "\n",
      "This warning can be disabled by either rescaling y before initializing the\n",
      "model or by setting rescale=False.\n",
      "\n",
      "  warnings.warn(\n",
      "D:\\Programs\\anaconda3\\Anaconda\\lib\\site-packages\\arch\\univariate\\base.py:311: DataScaleWarning: y is poorly scaled, which may affect convergence of the optimizer when\n",
      "estimating the model parameters. The scale of y is 0.0001452. Parameter\n",
      "estimation work better when this value is between 1 and 1000. The recommended\n",
      "rescaling is 100 * y.\n",
      "\n",
      "This warning can be disabled by either rescaling y before initializing the\n",
      "model or by setting rescale=False.\n",
      "\n",
      "  warnings.warn(\n",
      "D:\\Programs\\anaconda3\\Anaconda\\lib\\site-packages\\arch\\univariate\\base.py:311: DataScaleWarning: y is poorly scaled, which may affect convergence of the optimizer when\n",
      "estimating the model parameters. The scale of y is 0.0001452. Parameter\n",
      "estimation work better when this value is between 1 and 1000. The recommended\n",
      "rescaling is 100 * y.\n",
      "\n",
      "This warning can be disabled by either rescaling y before initializing the\n",
      "model or by setting rescale=False.\n",
      "\n",
      "  warnings.warn(\n",
      "D:\\Programs\\anaconda3\\Anaconda\\lib\\site-packages\\arch\\univariate\\base.py:311: DataScaleWarning: y is poorly scaled, which may affect convergence of the optimizer when\n",
      "estimating the model parameters. The scale of y is 0.0001452. Parameter\n",
      "estimation work better when this value is between 1 and 1000. The recommended\n",
      "rescaling is 100 * y.\n",
      "\n",
      "This warning can be disabled by either rescaling y before initializing the\n",
      "model or by setting rescale=False.\n",
      "\n",
      "  warnings.warn(\n",
      "D:\\Programs\\anaconda3\\Anaconda\\lib\\site-packages\\arch\\univariate\\base.py:311: DataScaleWarning: y is poorly scaled, which may affect convergence of the optimizer when\n",
      "estimating the model parameters. The scale of y is 0.0001452. Parameter\n",
      "estimation work better when this value is between 1 and 1000. The recommended\n",
      "rescaling is 100 * y.\n",
      "\n",
      "This warning can be disabled by either rescaling y before initializing the\n",
      "model or by setting rescale=False.\n",
      "\n",
      "  warnings.warn(\n",
      "D:\\Programs\\anaconda3\\Anaconda\\lib\\site-packages\\arch\\univariate\\base.py:311: DataScaleWarning: y is poorly scaled, which may affect convergence of the optimizer when\n",
      "estimating the model parameters. The scale of y is 0.0001452. Parameter\n",
      "estimation work better when this value is between 1 and 1000. The recommended\n",
      "rescaling is 100 * y.\n",
      "\n",
      "This warning can be disabled by either rescaling y before initializing the\n",
      "model or by setting rescale=False.\n",
      "\n",
      "  warnings.warn(\n",
      "D:\\Programs\\anaconda3\\Anaconda\\lib\\site-packages\\arch\\univariate\\base.py:311: DataScaleWarning: y is poorly scaled, which may affect convergence of the optimizer when\n",
      "estimating the model parameters. The scale of y is 0.0001452. Parameter\n",
      "estimation work better when this value is between 1 and 1000. The recommended\n",
      "rescaling is 100 * y.\n",
      "\n",
      "This warning can be disabled by either rescaling y before initializing the\n",
      "model or by setting rescale=False.\n",
      "\n",
      "  warnings.warn(\n",
      "D:\\Programs\\anaconda3\\Anaconda\\lib\\site-packages\\arch\\univariate\\base.py:311: DataScaleWarning: y is poorly scaled, which may affect convergence of the optimizer when\n",
      "estimating the model parameters. The scale of y is 0.0001452. Parameter\n",
      "estimation work better when this value is between 1 and 1000. The recommended\n",
      "rescaling is 100 * y.\n",
      "\n",
      "This warning can be disabled by either rescaling y before initializing the\n",
      "model or by setting rescale=False.\n",
      "\n",
      "  warnings.warn(\n",
      "D:\\Programs\\anaconda3\\Anaconda\\lib\\site-packages\\arch\\univariate\\base.py:311: DataScaleWarning: y is poorly scaled, which may affect convergence of the optimizer when\n",
      "estimating the model parameters. The scale of y is 0.0001452. Parameter\n",
      "estimation work better when this value is between 1 and 1000. The recommended\n",
      "rescaling is 100 * y.\n",
      "\n",
      "This warning can be disabled by either rescaling y before initializing the\n",
      "model or by setting rescale=False.\n",
      "\n",
      "  warnings.warn(\n",
      "D:\\Programs\\anaconda3\\Anaconda\\lib\\site-packages\\arch\\univariate\\base.py:311: DataScaleWarning: y is poorly scaled, which may affect convergence of the optimizer when\n",
      "estimating the model parameters. The scale of y is 0.0001452. Parameter\n",
      "estimation work better when this value is between 1 and 1000. The recommended\n",
      "rescaling is 100 * y.\n",
      "\n",
      "This warning can be disabled by either rescaling y before initializing the\n",
      "model or by setting rescale=False.\n",
      "\n",
      "  warnings.warn(\n",
      "D:\\Programs\\anaconda3\\Anaconda\\lib\\site-packages\\arch\\univariate\\base.py:311: DataScaleWarning: y is poorly scaled, which may affect convergence of the optimizer when\n",
      "estimating the model parameters. The scale of y is 0.0001452. Parameter\n",
      "estimation work better when this value is between 1 and 1000. The recommended\n",
      "rescaling is 100 * y.\n",
      "\n",
      "This warning can be disabled by either rescaling y before initializing the\n",
      "model or by setting rescale=False.\n",
      "\n",
      "  warnings.warn(\n",
      "D:\\Programs\\anaconda3\\Anaconda\\lib\\site-packages\\arch\\univariate\\base.py:311: DataScaleWarning: y is poorly scaled, which may affect convergence of the optimizer when\n",
      "estimating the model parameters. The scale of y is 0.0001452. Parameter\n",
      "estimation work better when this value is between 1 and 1000. The recommended\n",
      "rescaling is 100 * y.\n",
      "\n",
      "This warning can be disabled by either rescaling y before initializing the\n",
      "model or by setting rescale=False.\n",
      "\n",
      "  warnings.warn(\n",
      "D:\\Programs\\anaconda3\\Anaconda\\lib\\site-packages\\arch\\univariate\\base.py:311: DataScaleWarning: y is poorly scaled, which may affect convergence of the optimizer when\n",
      "estimating the model parameters. The scale of y is 0.0001452. Parameter\n",
      "estimation work better when this value is between 1 and 1000. The recommended\n",
      "rescaling is 100 * y.\n",
      "\n",
      "This warning can be disabled by either rescaling y before initializing the\n",
      "model or by setting rescale=False.\n",
      "\n",
      "  warnings.warn(\n",
      "D:\\Programs\\anaconda3\\Anaconda\\lib\\site-packages\\arch\\univariate\\base.py:311: DataScaleWarning: y is poorly scaled, which may affect convergence of the optimizer when\n",
      "estimating the model parameters. The scale of y is 0.0001452. Parameter\n",
      "estimation work better when this value is between 1 and 1000. The recommended\n",
      "rescaling is 100 * y.\n",
      "\n",
      "This warning can be disabled by either rescaling y before initializing the\n",
      "model or by setting rescale=False.\n",
      "\n",
      "  warnings.warn(\n",
      "D:\\Programs\\anaconda3\\Anaconda\\lib\\site-packages\\arch\\univariate\\base.py:311: DataScaleWarning: y is poorly scaled, which may affect convergence of the optimizer when\n",
      "estimating the model parameters. The scale of y is 0.0001452. Parameter\n",
      "estimation work better when this value is between 1 and 1000. The recommended\n",
      "rescaling is 100 * y.\n",
      "\n",
      "This warning can be disabled by either rescaling y before initializing the\n",
      "model or by setting rescale=False.\n",
      "\n",
      "  warnings.warn(\n",
      "D:\\Programs\\anaconda3\\Anaconda\\lib\\site-packages\\arch\\univariate\\base.py:311: DataScaleWarning: y is poorly scaled, which may affect convergence of the optimizer when\n",
      "estimating the model parameters. The scale of y is 0.0001452. Parameter\n",
      "estimation work better when this value is between 1 and 1000. The recommended\n",
      "rescaling is 100 * y.\n",
      "\n",
      "This warning can be disabled by either rescaling y before initializing the\n",
      "model or by setting rescale=False.\n",
      "\n",
      "  warnings.warn(\n",
      "D:\\Programs\\anaconda3\\Anaconda\\lib\\site-packages\\arch\\univariate\\base.py:311: DataScaleWarning: y is poorly scaled, which may affect convergence of the optimizer when\n",
      "estimating the model parameters. The scale of y is 0.0001452. Parameter\n",
      "estimation work better when this value is between 1 and 1000. The recommended\n",
      "rescaling is 100 * y.\n",
      "\n",
      "This warning can be disabled by either rescaling y before initializing the\n",
      "model or by setting rescale=False.\n",
      "\n",
      "  warnings.warn(\n"
     ]
    },
    {
     "name": "stdout",
     "output_type": "stream",
     "text": [
      "Best AIC: -1592.7160203986155\n",
      "Best Order (p, q): (2, 1)\n"
     ]
    },
    {
     "name": "stderr",
     "output_type": "stream",
     "text": [
      "D:\\Programs\\anaconda3\\Anaconda\\lib\\site-packages\\arch\\univariate\\base.py:311: DataScaleWarning: y is poorly scaled, which may affect convergence of the optimizer when\n",
      "estimating the model parameters. The scale of y is 0.0001452. Parameter\n",
      "estimation work better when this value is between 1 and 1000. The recommended\n",
      "rescaling is 100 * y.\n",
      "\n",
      "This warning can be disabled by either rescaling y before initializing the\n",
      "model or by setting rescale=False.\n",
      "\n",
      "  warnings.warn(\n",
      "D:\\Programs\\anaconda3\\Anaconda\\lib\\site-packages\\arch\\univariate\\base.py:311: DataScaleWarning: y is poorly scaled, which may affect convergence of the optimizer when\n",
      "estimating the model parameters. The scale of y is 0.0001452. Parameter\n",
      "estimation work better when this value is between 1 and 1000. The recommended\n",
      "rescaling is 100 * y.\n",
      "\n",
      "This warning can be disabled by either rescaling y before initializing the\n",
      "model or by setting rescale=False.\n",
      "\n",
      "  warnings.warn(\n",
      "D:\\Programs\\anaconda3\\Anaconda\\lib\\site-packages\\arch\\univariate\\base.py:311: DataScaleWarning: y is poorly scaled, which may affect convergence of the optimizer when\n",
      "estimating the model parameters. The scale of y is 0.0001452. Parameter\n",
      "estimation work better when this value is between 1 and 1000. The recommended\n",
      "rescaling is 100 * y.\n",
      "\n",
      "This warning can be disabled by either rescaling y before initializing the\n",
      "model or by setting rescale=False.\n",
      "\n",
      "  warnings.warn(\n",
      "D:\\Programs\\anaconda3\\Anaconda\\lib\\site-packages\\arch\\univariate\\base.py:311: DataScaleWarning: y is poorly scaled, which may affect convergence of the optimizer when\n",
      "estimating the model parameters. The scale of y is 0.0001452. Parameter\n",
      "estimation work better when this value is between 1 and 1000. The recommended\n",
      "rescaling is 100 * y.\n",
      "\n",
      "This warning can be disabled by either rescaling y before initializing the\n",
      "model or by setting rescale=False.\n",
      "\n",
      "  warnings.warn(\n",
      "D:\\Programs\\anaconda3\\Anaconda\\lib\\site-packages\\arch\\univariate\\base.py:311: DataScaleWarning: y is poorly scaled, which may affect convergence of the optimizer when\n",
      "estimating the model parameters. The scale of y is 0.0001452. Parameter\n",
      "estimation work better when this value is between 1 and 1000. The recommended\n",
      "rescaling is 100 * y.\n",
      "\n",
      "This warning can be disabled by either rescaling y before initializing the\n",
      "model or by setting rescale=False.\n",
      "\n",
      "  warnings.warn(\n"
     ]
    }
   ],
   "source": [
    "best_aic = np.inf  # Initialize with a very large value\n",
    "best_order = None\n",
    "\n",
    "# Loop over potential values of p and q\n",
    "for p in range(1, 6):  # Maximum lag order for ARCH model\n",
    "    for q in range(1, 6):  # Maximum lag order for GARCH model\n",
    "        # Fit ARCH/GARCH model with current p and q values\n",
    "        model = arch_model(returns, vol='Garch', p=p, q=q)\n",
    "        result = model.fit(disp='off')  # Suppress output for simplicity\n",
    "        \n",
    "        # Calculate AIC\n",
    "        aic = result.aic\n",
    "        \n",
    "        # Check if current AIC is the best so far\n",
    "        if aic < best_aic:\n",
    "            best_aic = aic\n",
    "            best_order = (p, q)\n",
    "            p_value=p\n",
    "            q_value=q\n",
    "\n",
    "print(\"Best AIC:\", best_aic)\n",
    "print(\"Best Order (p, q):\", best_order)\n"
   ]
  },
  {
   "cell_type": "code",
   "execution_count": 15,
   "metadata": {},
   "outputs": [
    {
     "name": "stdout",
     "output_type": "stream",
     "text": [
      "                     Constant Mean - GARCH Model Results                      \n",
      "==============================================================================\n",
      "Dep. Variable:          Daily_Returns   R-squared:                       0.000\n",
      "Mean Model:             Constant Mean   Adj. R-squared:                  0.000\n",
      "Vol Model:                      GARCH   Log-Likelihood:                801.358\n",
      "Distribution:                  Normal   AIC:                          -1592.72\n",
      "Method:            Maximum Likelihood   BIC:                          -1574.84\n",
      "                                        No. Observations:                  264\n",
      "Date:                Sat, Mar 02 2024   Df Residuals:                      263\n",
      "Time:                        13:51:08   Df Model:                            1\n",
      "                                  Mean Model                                 \n",
      "=============================================================================\n",
      "                 coef    std err          t      P>|t|       95.0% Conf. Int.\n",
      "-----------------------------------------------------------------------------\n",
      "mu         1.0670e-03  7.564e-04      1.411      0.158 [-4.156e-04,2.550e-03]\n",
      "                               Volatility Model                              \n",
      "=============================================================================\n",
      "                 coef    std err          t      P>|t|       95.0% Conf. Int.\n",
      "-----------------------------------------------------------------------------\n",
      "omega      1.0961e-05  2.513e-11  4.362e+05      0.000  [1.096e-05,1.096e-05]\n",
      "alpha[1]       0.0285  3.191e-02      0.892      0.373 [-3.410e-02,9.100e-02]\n",
      "alpha[2]       0.1261      0.104      1.218      0.223   [-7.679e-02,  0.329]\n",
      "beta[1]        0.7905  6.249e-02     12.651  1.110e-36      [  0.668,  0.913]\n",
      "=============================================================================\n",
      "\n",
      "Covariance estimator: robust\n"
     ]
    },
    {
     "name": "stderr",
     "output_type": "stream",
     "text": [
      "D:\\Programs\\anaconda3\\Anaconda\\lib\\site-packages\\arch\\univariate\\base.py:311: DataScaleWarning: y is poorly scaled, which may affect convergence of the optimizer when\n",
      "estimating the model parameters. The scale of y is 0.0001452. Parameter\n",
      "estimation work better when this value is between 1 and 1000. The recommended\n",
      "rescaling is 100 * y.\n",
      "\n",
      "This warning can be disabled by either rescaling y before initializing the\n",
      "model or by setting rescale=False.\n",
      "\n",
      "  warnings.warn(\n"
     ]
    }
   ],
   "source": [
    "import arch\n",
    "from arch import arch_model\n",
    "model = arch_model(returns, vol='Garch', p=2, q=1)\n",
    "results = model.fit(disp='off')\n",
    "print(results)\n"
   ]
  },
  {
   "cell_type": "code",
   "execution_count": 23,
   "metadata": {},
   "outputs": [
    {
     "name": "stdout",
     "output_type": "stream",
     "text": [
      "h.1    0.020621\n",
      "Name: 264, dtype: float64\n"
     ]
    }
   ],
   "source": [
    "forecast = result.forecast(horizon=1)\n",
    "forecast_volatility = np.sqrt(forecast.variance.iloc[-1])\n",
    "print(forecast_volatility);"
   ]
  },
  {
   "cell_type": "code",
   "execution_count": 37,
   "metadata": {},
   "outputs": [
    {
     "name": "stdout",
     "output_type": "stream",
     "text": [
      "h.1    0.020621\n",
      "Name: 264, dtype: float64\n"
     ]
    }
   ],
   "source": [
    "print(forecast_volatility)\n"
   ]
  },
  {
   "cell_type": "markdown",
   "metadata": {},
   "source": [
    "# Residual computation"
   ]
  },
  {
   "cell_type": "code",
   "execution_count": 21,
   "metadata": {},
   "outputs": [
    {
     "name": "stdout",
     "output_type": "stream",
     "text": [
      "1   -0.008385\n",
      "2   -0.016123\n",
      "3   -0.002854\n",
      "4    0.008022\n",
      "5    0.022544\n",
      "Name: resid, dtype: float64\n"
     ]
    }
   ],
   "source": [
    "# Get the residuals\n",
    "residuals = results.resid\n",
    "\n",
    "# Display the first few residuals\n",
    "print(residuals.head())"
   ]
  },
  {
   "cell_type": "code",
   "execution_count": 31,
   "metadata": {},
   "outputs": [
    {
     "data": {
      "text/plain": [
       "<bound method Series.count of 1     -0.008385\n",
       "2     -0.016123\n",
       "3     -0.002854\n",
       "4      0.008022\n",
       "5      0.022544\n",
       "         ...   \n",
       "260   -0.029496\n",
       "261    0.010449\n",
       "262    0.005779\n",
       "263    0.069125\n",
       "264   -0.028984\n",
       "Name: resid, Length: 264, dtype: float64>"
      ]
     },
     "execution_count": 31,
     "metadata": {},
     "output_type": "execute_result"
    }
   ],
   "source": [
    "residuals.count"
   ]
  },
  {
   "cell_type": "code",
   "execution_count": 32,
   "metadata": {},
   "outputs": [
    {
     "data": {
      "text/plain": [
       "<bound method NDFrame._add_numeric_operations.<locals>.sum of 1     -0.008385\n",
       "2     -0.016123\n",
       "3     -0.002854\n",
       "4      0.008022\n",
       "5      0.022544\n",
       "         ...   \n",
       "260   -0.029496\n",
       "261    0.010449\n",
       "262    0.005779\n",
       "263    0.069125\n",
       "264   -0.028984\n",
       "Name: resid, Length: 264, dtype: float64>"
      ]
     },
     "execution_count": 32,
     "metadata": {},
     "output_type": "execute_result"
    }
   ],
   "source": [
    "residuals.sum"
   ]
  },
  {
   "cell_type": "code",
   "execution_count": 22,
   "metadata": {},
   "outputs": [
    {
     "data": {
      "image/png": "[encoded data removed]",
      "text/plain": [
       "<Figure size 432x288 with 1 Axes>"
      ]
     },
     "metadata": {
      "needs_background": "light"
     },
     "output_type": "display_data"
    }
   ],
   "source": [
    "import matplotlib.pyplot as plt\n",
    "\n",
    "# Plot the residuals over time\n",
    "plt.plot(residuals)\n",
    "plt.title('Residuals Over Time')\n",
    "plt.xlabel('Time')\n",
    "plt.ylabel('Residuals')\n",
    "plt.show()"
   ]
  },
  {
   "cell_type": "code",
   "execution_count": 23,
   "metadata": {},
   "outputs": [
    {
     "data": {
      "image/png": "[encoded data removed]",
      "text/plain": [
       "<Figure size 432x288 with 1 Axes>"
      ]
     },
     "metadata": {
      "needs_background": "light"
     },
     "output_type": "display_data"
    },
    {
     "data": {
      "image/png": "[encoded data removed]",
      "text/plain": [
       "<Figure size 432x288 with 1 Axes>"
      ]
     },
     "metadata": {
      "needs_background": "light"
     },
     "output_type": "display_data"
    }
   ],
   "source": [
    "from statsmodels.graphics.tsaplots import plot_acf, plot_pacf\n",
    "\n",
    "# Plot the autocorrelation function (ACF) of residuals\n",
    "plot_acf(residuals, lags=20)\n",
    "plt.title('ACF of Residuals')\n",
    "plt.show()\n",
    "\n",
    "# Plot the partial autocorrelation function (PACF) of residuals\n",
    "plot_pacf(residuals, lags=20)\n",
    "plt.title('PACF of Residuals')\n",
    "plt.show()\n"
   ]
  },
  {
   "cell_type": "code",
   "execution_count": 24,
   "metadata": {},
   "outputs": [
    {
     "name": "stdout",
     "output_type": "stream",
     "text": [
      "Ljung-Box test statistic: [ 0.39370058  0.41491083  3.1719023   3.43857883  3.51717937  4.0277783\n",
      "  4.59422306  4.59502682  7.29912076  7.88821607  8.30430578  8.59985188\n",
      "  8.74382597  8.89350747  9.32607653  9.35025316 10.74636366 11.63019556\n",
      " 12.06826035 12.92869452]\n",
      "P-values: [0.53036061 0.81264947 0.36587303 0.48727881 0.62078978 0.67291709\n",
      " 0.70934353 0.7998524  0.60600747 0.63975494 0.68581303 0.73667481\n",
      " 0.79200422 0.83781137 0.85986011 0.89829145 0.86944126 0.86573019\n",
      " 0.8826869  0.88042243]\n"
     ]
    },
    {
     "name": "stderr",
     "output_type": "stream",
     "text": [
      "D:\\Programs\\anaconda3\\Anaconda\\lib\\site-packages\\statsmodels\\stats\\diagnostic.py:559: FutureWarning: The value returned will change to a single DataFrame after 0.12 is released.  Set return_df to True to use to return a DataFrame now.  Set return_df to False to silence this warning.\n",
      "  warnings.warn(msg, FutureWarning)\n"
     ]
    }
   ],
   "source": [
    "from statsmodels.stats.diagnostic import acorr_ljungbox\n",
    "\n",
    "# Ljung-Box test for autocorrelation in residuals\n",
    "lb_test, p_values = acorr_ljungbox(residuals, lags=20)\n",
    "print(f\"Ljung-Box test statistic: {lb_test}\")\n",
    "print(f\"P-values: {p_values}\")\n"
   ]
  },
  {
   "cell_type": "code",
   "execution_count": 25,
   "metadata": {},
   "outputs": [
    {
     "name": "stdout",
     "output_type": "stream",
     "text": [
      "Mean of Residuals: -0.00035465717677310167\n",
      "Standard Deviation of Residuals: 0.012072912239737768\n"
     ]
    }
   ],
   "source": [
    "mean_residual = residuals.mean()\n",
    "std_residual = residuals.std()\n",
    "\n",
    "print(f\"Mean of Residuals: {mean_residual}\")\n",
    "print(f\"Standard Deviation of Residuals: {std_residual}\")\n"
   ]
  },
  {
   "cell_type": "code",
   "execution_count": 29,
   "metadata": {},
   "outputs": [
    {
     "name": "stdout",
     "output_type": "stream",
     "text": [
      "Number of outliers: 3\n"
     ]
    }
   ],
   "source": [
    "from scipy.stats import zscore\n",
    "\n",
    "# Detect outliers using z-score\n",
    "z_scores = zscore(residuals)\n",
    "outliers = (z_scores > 3) | (z_scores < -3)\n",
    "\n",
    "print(f\"Number of outliers: {sum(outliers)}\")"
   ]
  },
  {
   "cell_type": "markdown",
   "metadata": {},
   "source": [
    "# Errors computation"
   ]
  },
  {
   "cell_type": "code",
   "execution_count": 29,
   "metadata": {},
   "outputs": [
    {
     "name": "stdout",
     "output_type": "stream",
     "text": [
      "0.1704793121139145\n"
     ]
    }
   ],
   "source": [
    "average_volatility = actual_volatility.mean()\n",
    "print(average_volatility)"
   ]
  },
  {
   "cell_type": "code",
   "execution_count": 38,
   "metadata": {},
   "outputs": [
    {
     "ename": "ValueError",
     "evalue": "Found input variables with inconsistent numbers of samples: [245, 1]",
     "output_type": "error",
     "traceback": [
      "\u001b[1;31m---------------------------------------------------------------------------\u001b[0m",
      "\u001b[1;31mValueError\u001b[0m                                Traceback (most recent call last)",
      "\u001b[1;32m~\\AppData\\Local\\Temp/ipykernel_12352/2481860903.py\u001b[0m in \u001b[0;36m<module>\u001b[1;34m\u001b[0m\n\u001b[0;32m      2\u001b[0m \u001b[1;33m\u001b[0m\u001b[0m\n\u001b[0;32m      3\u001b[0m \u001b[1;31m# Assuming 'actual_volatility' is the actual conditional volatility and 'predicted_volatility' is the predicted volatility\u001b[0m\u001b[1;33m\u001b[0m\u001b[1;33m\u001b[0m\u001b[0m\n\u001b[1;32m----> 4\u001b[1;33m \u001b[0mmse\u001b[0m \u001b[1;33m=\u001b[0m \u001b[0mmean_squared_error\u001b[0m\u001b[1;33m(\u001b[0m\u001b[0mactual_volatility\u001b[0m\u001b[1;33m,\u001b[0m \u001b[0mforecast_volatility\u001b[0m\u001b[1;33m)\u001b[0m\u001b[1;33m\u001b[0m\u001b[1;33m\u001b[0m\u001b[0m\n\u001b[0m\u001b[0;32m      5\u001b[0m \u001b[1;33m\u001b[0m\u001b[0m\n\u001b[0;32m      6\u001b[0m \u001b[0mprint\u001b[0m\u001b[1;33m(\u001b[0m\u001b[0mmse\u001b[0m\u001b[1;33m)\u001b[0m\u001b[1;33m\u001b[0m\u001b[1;33m\u001b[0m\u001b[0m\n",
      "\u001b[1;32mD:\\Programs\\anaconda3\\Anaconda\\lib\\site-packages\\sklearn\\metrics\\_regression.py\u001b[0m in \u001b[0;36mmean_squared_error\u001b[1;34m(y_true, y_pred, sample_weight, multioutput, squared)\u001b[0m\n\u001b[0;32m    440\u001b[0m     \u001b[1;36m0.825\u001b[0m\u001b[1;33m...\u001b[0m\u001b[1;33m\u001b[0m\u001b[1;33m\u001b[0m\u001b[0m\n\u001b[0;32m    441\u001b[0m     \"\"\"\n\u001b[1;32m--> 442\u001b[1;33m     y_type, y_true, y_pred, multioutput = _check_reg_targets(\n\u001b[0m\u001b[0;32m    443\u001b[0m         \u001b[0my_true\u001b[0m\u001b[1;33m,\u001b[0m \u001b[0my_pred\u001b[0m\u001b[1;33m,\u001b[0m \u001b[0mmultioutput\u001b[0m\u001b[1;33m\u001b[0m\u001b[1;33m\u001b[0m\u001b[0m\n\u001b[0;32m    444\u001b[0m     )\n",
      "\u001b[1;32mD:\\Programs\\anaconda3\\Anaconda\\lib\\site-packages\\sklearn\\metrics\\_regression.py\u001b[0m in \u001b[0;36m_check_reg_targets\u001b[1;34m(y_true, y_pred, multioutput, dtype)\u001b[0m\n\u001b[0;32m     98\u001b[0m         \u001b[0mcorrect\u001b[0m \u001b[0mkeyword\u001b[0m\u001b[1;33m.\u001b[0m\u001b[1;33m\u001b[0m\u001b[1;33m\u001b[0m\u001b[0m\n\u001b[0;32m     99\u001b[0m     \"\"\"\n\u001b[1;32m--> 100\u001b[1;33m     \u001b[0mcheck_consistent_length\u001b[0m\u001b[1;33m(\u001b[0m\u001b[0my_true\u001b[0m\u001b[1;33m,\u001b[0m \u001b[0my_pred\u001b[0m\u001b[1;33m)\u001b[0m\u001b[1;33m\u001b[0m\u001b[1;33m\u001b[0m\u001b[0m\n\u001b[0m\u001b[0;32m    101\u001b[0m     \u001b[0my_true\u001b[0m \u001b[1;33m=\u001b[0m \u001b[0mcheck_array\u001b[0m\u001b[1;33m(\u001b[0m\u001b[0my_true\u001b[0m\u001b[1;33m,\u001b[0m \u001b[0mensure_2d\u001b[0m\u001b[1;33m=\u001b[0m\u001b[1;32mFalse\u001b[0m\u001b[1;33m,\u001b[0m \u001b[0mdtype\u001b[0m\u001b[1;33m=\u001b[0m\u001b[0mdtype\u001b[0m\u001b[1;33m)\u001b[0m\u001b[1;33m\u001b[0m\u001b[1;33m\u001b[0m\u001b[0m\n\u001b[0;32m    102\u001b[0m     \u001b[0my_pred\u001b[0m \u001b[1;33m=\u001b[0m \u001b[0mcheck_array\u001b[0m\u001b[1;33m(\u001b[0m\u001b[0my_pred\u001b[0m\u001b[1;33m,\u001b[0m \u001b[0mensure_2d\u001b[0m\u001b[1;33m=\u001b[0m\u001b[1;32mFalse\u001b[0m\u001b[1;33m,\u001b[0m \u001b[0mdtype\u001b[0m\u001b[1;33m=\u001b[0m\u001b[0mdtype\u001b[0m\u001b[1;33m)\u001b[0m\u001b[1;33m\u001b[0m\u001b[1;33m\u001b[0m\u001b[0m\n",
      "\u001b[1;32mD:\\Programs\\anaconda3\\Anaconda\\lib\\site-packages\\sklearn\\utils\\validation.py\u001b[0m in \u001b[0;36mcheck_consistent_length\u001b[1;34m(*arrays)\u001b[0m\n\u001b[0;32m    395\u001b[0m     \u001b[0muniques\u001b[0m \u001b[1;33m=\u001b[0m \u001b[0mnp\u001b[0m\u001b[1;33m.\u001b[0m\u001b[0munique\u001b[0m\u001b[1;33m(\u001b[0m\u001b[0mlengths\u001b[0m\u001b[1;33m)\u001b[0m\u001b[1;33m\u001b[0m\u001b[1;33m\u001b[0m\u001b[0m\n\u001b[0;32m    396\u001b[0m     \u001b[1;32mif\u001b[0m \u001b[0mlen\u001b[0m\u001b[1;33m(\u001b[0m\u001b[0muniques\u001b[0m\u001b[1;33m)\u001b[0m \u001b[1;33m>\u001b[0m \u001b[1;36m1\u001b[0m\u001b[1;33m:\u001b[0m\u001b[1;33m\u001b[0m\u001b[1;33m\u001b[0m\u001b[0m\n\u001b[1;32m--> 397\u001b[1;33m         raise ValueError(\n\u001b[0m\u001b[0;32m    398\u001b[0m             \u001b[1;34m\"Found input variables with inconsistent numbers of samples: %r\"\u001b[0m\u001b[1;33m\u001b[0m\u001b[1;33m\u001b[0m\u001b[0m\n\u001b[0;32m    399\u001b[0m             \u001b[1;33m%\u001b[0m \u001b[1;33m[\u001b[0m\u001b[0mint\u001b[0m\u001b[1;33m(\u001b[0m\u001b[0ml\u001b[0m\u001b[1;33m)\u001b[0m \u001b[1;32mfor\u001b[0m \u001b[0ml\u001b[0m \u001b[1;32min\u001b[0m \u001b[0mlengths\u001b[0m\u001b[1;33m]\u001b[0m\u001b[1;33m\u001b[0m\u001b[1;33m\u001b[0m\u001b[0m\n",
      "\u001b[1;31mValueError\u001b[0m: Found input variables with inconsistent numbers of samples: [245, 1]"
     ]
    }
   ],
   "source": [
    "from sklearn.metrics import mean_squared_error\n",
    "\n",
    "# Assuming 'actual_volatility' is the actual conditional volatility and 'predicted_volatility' is the predicted volatility\n",
    "mse = mean_squared_error(actual_volatility, forecast_volatility)\n",
    "\n",
    "print(mse)"
   ]
  },
  {
   "cell_type": "code",
   "execution_count": null,
   "metadata": {},
   "outputs": [],
   "source": []
  },
  {
   "cell_type": "code",
   "execution_count": null,
   "metadata": {},
   "outputs": [],
   "source": []
  }
 ],
 "metadata": {
  "kernelspec": {
   "display_name": "Python 3 (ipykernel)",
   "language": "python",
   "name": "python3"
  },
  "language_info": {
   "codemirror_mode": {
    "name": "ipython",
    "version": 3
   },
   "file_extension": ".py",
   "mimetype": "text/x-python",
   "name": "python",
   "nbconvert_exporter": "python",
   "pygments_lexer": "ipython3",
   "version": "3.10.6"
  }
 },
 "nbformat": 4,
 "nbformat_minor": 2
}
